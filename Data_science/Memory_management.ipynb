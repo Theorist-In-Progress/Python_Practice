{
 "cells": [
  {
   "cell_type": "markdown",
   "id": "04241a8a",
   "metadata": {},
   "source": [
    "### Memory Management in python\n",
    "Memory management in Python refers to the process of allocating, tracking, and releasing memory during program execution. Python uses automatic memory management with a built-in garbage collector to reclaim unused memory, making it easier for developers to manage resources efficiently."
   ]
  },
  {
   "cell_type": "markdown",
   "id": "92881bd6",
   "metadata": {},
   "source": [
    "Reference counting is a memory management technique used by Python to keep track of the number of references pointing to each object in memory. Every object has a reference count, and when this count drops to zero (meaning no references to the object exist), Python automatically frees the memory occupied by that object. This helps prevent memory leaks by ensuring unused objects are removed from memory."
   ]
  },
  {
   "cell_type": "code",
   "execution_count": 1,
   "id": "952df312",
   "metadata": {},
   "outputs": [
    {
     "name": "stdout",
     "output_type": "stream",
     "text": [
      "2\n"
     ]
    }
   ],
   "source": [
    "import sys \n",
    "a=[]\n",
    "\n",
    "print(sys.getrefcount(a))\n",
    "## this will give 2 , becaz 1 from 'a' and one from getref function "
   ]
  },
  {
   "cell_type": "code",
   "execution_count": 4,
   "id": "8224fc44",
   "metadata": {},
   "outputs": [
    {
     "name": "stdout",
     "output_type": "stream",
     "text": [
      "3\n"
     ]
    }
   ],
   "source": [
    "b=a\n",
    "print(sys.getrefcount(b)) "
   ]
  },
  {
   "cell_type": "markdown",
   "id": "68c0b5aa",
   "metadata": {},
   "source": [
    "\n",
    "### Garbage Collection\n",
    "\n",
    "Garbage collection in Python is the process of automatically identifying and reclaiming memory that is no longer in use by the program. In addition to reference counting, Python's garbage collector can detect and clean up objects involved in reference cycles (where objects reference each other but are not accessible from the program). This helps prevent memory leaks and ensures efficient memory usage."
   ]
  },
  {
   "cell_type": "code",
   "execution_count": 2,
   "id": "ada0de5f",
   "metadata": {},
   "outputs": [],
   "source": [
    "import gc\n",
    "## enable garbagr collector \n",
    "gc.enable()"
   ]
  },
  {
   "cell_type": "code",
   "execution_count": 7,
   "id": "2d5158a7",
   "metadata": {},
   "outputs": [],
   "source": [
    "## to disable \n",
    "gc.disable()"
   ]
  },
  {
   "cell_type": "code",
   "execution_count": 10,
   "id": "4dfdfd5a",
   "metadata": {},
   "outputs": [
    {
     "data": {
      "text/plain": [
       "0"
      ]
     },
     "execution_count": 10,
     "metadata": {},
     "output_type": "execute_result"
    }
   ],
   "source": [
    "## to manually trigger the garbage collection\n",
    "\n",
    "gc.collect()\n",
    "# shows this many varibables are unreachable "
   ]
  },
  {
   "cell_type": "code",
   "execution_count": 11,
   "id": "878547b8",
   "metadata": {},
   "outputs": [
    {
     "name": "stdout",
     "output_type": "stream",
     "text": [
      "[{'collections': 184, 'collected': 1657, 'uncollectable': 0}, {'collections': 16, 'collected': 511, 'uncollectable': 0}, {'collections': 4, 'collected': 1060, 'uncollectable': 0}]\n"
     ]
    }
   ],
   "source": [
    "### get garbage collection stats \n",
    "print(gc.get_stats())"
   ]
  },
  {
   "cell_type": "code",
   "execution_count": 12,
   "id": "2ebc84c0",
   "metadata": {},
   "outputs": [
    {
     "name": "stdout",
     "output_type": "stream",
     "text": [
      "[]\n"
     ]
    }
   ],
   "source": [
    "### get unreachable objects \n",
    "print(gc.garbage)"
   ]
  },
  {
   "cell_type": "markdown",
   "id": "fa357180",
   "metadata": {},
   "source": [
    "- `gc.enable()`: Enables the automatic garbage collector if it was disabled.\n",
    "- `gc.disable()`: Disables the automatic garbage collector.\n",
    "- `gc.collect()`: Manually triggers garbage collection and returns the number of unreachable objects found and collected.\n",
    "- `gc.get_stats()`: Returns statistics about the garbage collector’s performance and activity.\n",
    "- `gc.garbage`: A list containing objects that the garbage collector found to be unreachable but could not be freed (usually due to having `__del__` methods)."
   ]
  },
  {
   "cell_type": "markdown",
   "id": "c1dea771",
   "metadata": {},
   "source": [
    "# Memory management Best practices \n",
    "1. use local variables \n",
    "2. avoid circular references like a=b and b=a \n",
    "4. Explicitly delete objects not are in use by del keyword \n",
    "5. Profile Memory usages : use memory profiling tools like tracemalloc and memory _profiler to indentify memory leaks and optimize memory usages "
   ]
  },
  {
   "cell_type": "code",
   "execution_count": 14,
   "id": "5a6068bd",
   "metadata": {},
   "outputs": [
    {
     "name": "stdout",
     "output_type": "stream",
     "text": [
      "Object obj1 created\n",
      "Object obj2 created\n"
     ]
    }
   ],
   "source": [
    "import gc\n",
    "class MyObject:\n",
    "    def __init__(self,name):\n",
    "        self.name=name\n",
    "        print(f\"Object {self.name} created\")\n",
    "\n",
    "    def __del__(self):\n",
    "        print(f\"object deleted\")\n",
    "\n",
    "## create circular references \n",
    "obj1=MyObject(\"obj1\")\n",
    "obj2=MyObject(\"obj2\")\n",
    "obj1.ref=obj2\n",
    "obj2.ref=obj1\n",
    "\n",
    "del obj1\n",
    "del obj2"
   ]
  },
  {
   "cell_type": "code",
   "execution_count": 15,
   "id": "c5e80c02",
   "metadata": {},
   "outputs": [
    {
     "name": "stdout",
     "output_type": "stream",
     "text": [
      "object deleted\n",
      "object deleted\n"
     ]
    },
    {
     "data": {
      "text/plain": [
       "659"
      ]
     },
     "execution_count": 15,
     "metadata": {},
     "output_type": "execute_result"
    }
   ],
   "source": [
    "## now due to circular reference , we need to manually trigger the garbage collection \n",
    "\n",
    "gc.collect()\n"
   ]
  },
  {
   "cell_type": "code",
   "execution_count": 16,
   "id": "bb6800cd",
   "metadata": {},
   "outputs": [
    {
     "name": "stdout",
     "output_type": "stream",
     "text": [
      "66\n"
     ]
    }
   ],
   "source": [
    "print(gc.collect())"
   ]
  },
  {
   "cell_type": "code",
   "execution_count": 1,
   "id": "24da54c8",
   "metadata": {},
   "outputs": [
    {
     "ename": "NameError",
     "evalue": "name 'gc' is not defined",
     "output_type": "error",
     "traceback": [
      "\u001b[1;31m---------------------------------------------------------------------------\u001b[0m",
      "\u001b[1;31mNameError\u001b[0m                                 Traceback (most recent call last)",
      "Cell \u001b[1;32mIn[1], line 1\u001b[0m\n\u001b[1;32m----> 1\u001b[0m \u001b[38;5;28mprint\u001b[39m(\u001b[43mgc\u001b[49m\u001b[38;5;241m.\u001b[39mcollect())\n",
      "\u001b[1;31mNameError\u001b[0m: name 'gc' is not defined"
     ]
    }
   ],
   "source": [
    "print(gc.collect())"
   ]
  },
  {
   "cell_type": "markdown",
   "id": "6b98ffd1",
   "metadata": {},
   "source": []
  }
 ],
 "metadata": {
  "kernelspec": {
   "display_name": "Python 3",
   "language": "python",
   "name": "python3"
  },
  "language_info": {
   "codemirror_mode": {
    "name": "ipython",
    "version": 3
   },
   "file_extension": ".py",
   "mimetype": "text/x-python",
   "name": "python",
   "nbconvert_exporter": "python",
   "pygments_lexer": "ipython3",
   "version": "3.12.0"
  }
 },
 "nbformat": 4,
 "nbformat_minor": 5
}
