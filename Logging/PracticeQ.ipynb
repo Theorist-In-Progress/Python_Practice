{
 "cells": [
  {
   "cell_type": "markdown",
   "metadata": {},
   "source": [
    "1. Write a Python function to create a basic logger that logs messages to a file named `app.log`.\n",
    "2. Modify the function to log messages of levels: DEBUG, INFO, WARNING, ERROR, and CRITICAL."
   ]
  },
  {
   "cell_type": "code",
   "execution_count": null,
   "metadata": {},
   "outputs": [],
   "source": [
    "import logging \n",
    "def logger_basic():\n",
    "    logging.basicConfig(\n",
    "        level=logging.DEBUG,\n",
    "        filemode='w',filename='app.log',\n",
    "        format='%(asctime)s-%(name)s-%(levelname)s-%(message)s',\n",
    "        datefmt='%Y-%m-%d %H:%M:%S',\n",
    "        force=True\n",
    "    )\n",
    "    logging.debug(\"this is my debug message\")\n",
    "    logging.warning('This is a warning message')\n",
    "    logging.info(\"This is my Info message\")\n",
    "    logging.error(\"This message for error \")\n",
    "    logging.critical(\"This is a critical log message \")\n",
    "\n",
    "logger_basic()\n",
    "#the output will be writtened in the app.log file successfully\n"
   ]
  },
  {
   "cell_type": "markdown",
   "metadata": {},
   "source": [
    "3. Write a Python function to create a logger that logs messages to both a file named `app.log` and the console."
   ]
  },
  {
   "cell_type": "code",
   "execution_count": 9,
   "metadata": {},
   "outputs": [
    {
     "name": "stderr",
     "output_type": "stream",
     "text": [
      "2025-03-04 20:07:54,112-My_logger-DEBUG-This is my debug message from logger_handlers\n",
      "2025-03-04 20:07:54,113-My_logger-INFO-This is my Info message ,loggers_handlers\n",
      "2025-03-04 20:07:54,113-My_logger-WARNING-Warning log from logger_handlers\n",
      "2025-03-04 20:07:54,114-My_logger-CRITICAL-Critical log message from logger_handlers\n",
      "2025-03-04 20:07:54,114-My_logger-ERROR-This is an Error messgae from Logger_handlers\n"
     ]
    }
   ],
   "source": [
    "def logger_handlers():\n",
    "    logger1=logging.getLogger(\"My_logger\")\n",
    "    logger1.setLevel(logging.DEBUG)\n",
    "\n",
    "    file_handler=logging.FileHandler(\"app.log\",'a') # this handler writes the logs\n",
    "    file_handler.setLevel(logging.DEBUG) \n",
    "    #file_handler writes all logs from debug level\n",
    "\n",
    "    console_handler=logging.StreamHandler()  # this handler is responsible for displaying the logs at console\n",
    "    console_handler.setLevel(logging.DEBUG)\n",
    "\n",
    "    formatter=logging.Formatter('%(asctime)s-%(name)s-%(levelname)s-%(message)s')\n",
    "    console_handler.setFormatter(formatter)\n",
    "    file_handler.setFormatter(formatter)\n",
    "# adding  the handlers in the logger \n",
    "    logger1.addHandler(file_handler)\n",
    "    logger1.addHandler(console_handler)\n",
    "\n",
    "    logger1.debug(\"This is my debug message from logger_handlers\")\n",
    "    logger1.info(\"This is my Info message ,loggers_handlers\")\n",
    "    logger1.warning(\"Warning log from logger_handlers\")\n",
    "    logger1.critical(\"Critical log message from logger_handlers\")\n",
    "    logger1.error(\"This is an Error messgae from Logger_handlers\")\n",
    "\n",
    "\n",
    "#testing\n",
    "logger_handlers()\n",
    "\n",
    "\n",
    "\n"
   ]
  },
  {
   "cell_type": "markdown",
   "metadata": {},
   "source": [
    "4. Write a Python function to create a logger that uses a rotating file handler, which creates a new log file when the current log file reaches a certain size."
   ]
  },
  {
   "cell_type": "code",
   "execution_count": 11,
   "metadata": {},
   "outputs": [],
   "source": [
    "from logging.handlers import RotatingFileHandler\n",
    "\n",
    "def Rotating_handler():\n",
    "    logger1=logging.getLogger('rotating handler')\n",
    "    logger1.setLevel(logging.DEBUG)\n",
    "\n",
    "    rotating_handler=RotatingFileHandler('rotating_file.log',maxBytes=2000,backupCount=3)\n",
    "    formatter=logging.Formatter('%(asctime)s-%(name)s-%(levelname)s-%(message)s')\n",
    "\n",
    "\n",
    "    rotating_handler.setFormatter(formatter)\n",
    "    logger1.addHandler(rotating_handler)\n",
    "#for testing purpose we are using this \n",
    "    for i in range(100):\n",
    "        logger1.debug(\"this is my debug number{}\".format(i))\n",
    "\n",
    "\n",
    "\n",
    "#testing with actucal file \n",
    "Rotating_handler()\n"
   ]
  },
  {
   "cell_type": "markdown",
   "metadata": {},
   "source": [
    "5. Write a Python function to configure logging using a dictionary. The configuration should include handlers for both file and console logging."
   ]
  },
  {
   "cell_type": "code",
   "execution_count": 5,
   "metadata": {},
   "outputs": [
    {
     "name": "stderr",
     "output_type": "stream",
     "text": [
      "2025-03-10 08:22:50,996-root-DEBUG-This is a debug message-logging_dict_config -31\n",
      "2025-03-10 08:22:51,009-root-INFO-THis is an info message-logging_dict_config -32\n",
      "2025-03-10 08:22:51,010-root-ERROR-This is an error message-logging_dict_config -33\n"
     ]
    }
   ],
   "source": [
    "import logging.config\n",
    "\n",
    "def logging_dict_config():\n",
    "    dict_config={\n",
    "        'version':1,\n",
    "        'formatters':{\n",
    "            'default':{'format':'%(asctime)s-%(name)s-%(levelname)s-%(message)s'},\n",
    "                       'detailed':{'format':'%(asctime)s-%(name)s-%(levelname)s-%(message)s-%(funcName)s -%(lineno)d'\n",
    "                       }\n",
    "                       },\n",
    "        'handlers':{\n",
    "            'file':{\n",
    "                'class':'logging.FileHandler',\n",
    "                'filename':'dict_config.log',\n",
    "                'formatter':'default',\n",
    "                'level':'DEBUG'\n",
    "            },\n",
    "            'console':{\n",
    "                'class':'logging.StreamHandler',\n",
    "                'formatter':'detailed',\n",
    "                'level':'DEBUG'\n",
    "            }\n",
    "        },\n",
    "        'root':{\n",
    "            'handlers':['file','console'],\n",
    "            'level':'DEBUG'\n",
    "        }\n",
    "    }\n",
    "    logging.config.dictConfig(dict_config)\n",
    "    logger=logging.getLogger('')\n",
    "    logger.debug(\"This is a debug message\")\n",
    "    logger.info(\"THis is an info message\")\n",
    "    logger.error(\"This is an error message\")\n",
    "\n",
    "\n",
    "#testing\n",
    "logging_dict_config()"
   ]
  },
  {
   "cell_type": "code",
   "execution_count": null,
   "metadata": {},
   "outputs": [],
   "source": []
  },
  {
   "cell_type": "code",
   "execution_count": null,
   "metadata": {},
   "outputs": [],
   "source": []
  },
  {
   "cell_type": "code",
   "execution_count": null,
   "metadata": {},
   "outputs": [],
   "source": []
  },
  {
   "cell_type": "markdown",
   "metadata": {},
   "source": [
    "5. Write a Python function to configure logging using a dictionary. The configuration should include handlers for both file and console logging."
   ]
  },
  {
   "cell_type": "code",
   "execution_count": null,
   "metadata": {},
   "outputs": [],
   "source": []
  }
 ],
 "metadata": {
  "kernelspec": {
   "display_name": "Python 3",
   "language": "python",
   "name": "python3"
  },
  "language_info": {
   "codemirror_mode": {
    "name": "ipython",
    "version": 3
   },
   "file_extension": ".py",
   "mimetype": "text/x-python",
   "name": "python",
   "nbconvert_exporter": "python",
   "pygments_lexer": "ipython3",
   "version": "3.12.0"
  }
 },
 "nbformat": 4,
 "nbformat_minor": 2
}
