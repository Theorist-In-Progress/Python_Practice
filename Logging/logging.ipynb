{
 "cells": [
  {
   "cell_type": "markdown",
   "metadata": {},
   "source": [
    "### logging "
   ]
  },
  {
   "cell_type": "markdown",
   "metadata": {},
   "source": [
    "##### logging is a crucial aspect in many applications , its provides a way to keep track of events , errors and operational information."
   ]
  },
  {
   "cell_type": "code",
   "execution_count": 1,
   "metadata": {},
   "outputs": [],
   "source": [
    "import logging "
   ]
  },
  {
   "cell_type": "markdown",
   "metadata": {},
   "source": [
    "##### By default, logging.basicConfig() only configures logging if no configuration has been set before.If another script or library already initialized logging, it won't change the format unless force=True is used."
   ]
  },
  {
   "cell_type": "code",
   "execution_count": null,
   "metadata": {},
   "outputs": [
    {
     "name": "stderr",
     "output_type": "stream",
     "text": [
      "2025-03-02 17:18:28 - DEBUG - root - THIS is a debug message\n",
      "2025-03-02 17:18:28 - INFO - root - this is an info message\n",
      "2025-03-02 17:18:28 - WARNING - root - this is warning message\n",
      "2025-03-02 17:18:28 - ERROR - root - this is an error message\n",
      "2025-03-02 17:18:28 - CRITICAL - root - This is critical message \n"
     ]
    }
   ],
   "source": [
    "#configure the basis logging settings \n",
    "logging.basicConfig(level=logging.DEBUG,\n",
    "    format=\"%(asctime)s - %(levelname)s - %(name)s - %(message)s\",\n",
    "    datefmt=\"%Y-%m-%d %H:%M:%S\",force=True) \n",
    "    # force forces the new logging format \n",
    "\n",
    "## log messages with different severity levels \n",
    "logging.debug(\"THIS is a debug message\")\n",
    "logging.info(\"this is an info message\")\n",
    "logging.warning(\"this is warning message\")\n",
    "logging.error(\"this is an error message\")\n",
    "logging.critical(\"This is critical message \")"
   ]
  },
  {
   "cell_type": "markdown",
   "metadata": {},
   "source": [
    "#### Each log message has a severity level:\n",
    "#### DEBUG: Detailed information for diagnosing problems.\n",
    "#### INFO: Confirmation that the program is working as expected.\n",
    "#### WARNING: Indicates something unexpected happened but the program continues.\n",
    "#### ERROR: A serious problem that prevents some functionality.\n",
    "#### CRITICAL: A critical error indicating system failure."
   ]
  },
  {
   "cell_type": "code",
   "execution_count": 9,
   "metadata": {},
   "outputs": [],
   "source": [
    "# configure logging \n",
    "logging.basicConfig(\n",
    "    filename='app.log',\n",
    "    filemode='w',\n",
    "    level=logging.DEBUG,\n",
    "    format='%(asctime)s-%(name)s-%(levelname)s-%(message)s',\n",
    "    datefmt='%Y-%m-%d %H:%M:%S',\n",
    "    force=True\n",
    ")\n",
    "# this is going to log the records in the app.log file \n",
    "logging.debug(\"THIS is a debug message\")\n",
    "logging.info(\"this is an info message\")\n",
    "logging.warning(\"this is warning message\")\n",
    "logging.error(\"this is an error message\")\n",
    "logging.critical(\"This is critical message \")"
   ]
  },
  {
   "cell_type": "code",
   "execution_count": 10,
   "metadata": {},
   "outputs": [],
   "source": [
    "# any log message we write will be written into the app.log file only if we run again \n",
    "logging.debug(\"THIS is a debug message\")\n",
    "logging.info(\"this is an info message\")\n",
    "logging.warning(\"this is warning message\")\n",
    "logging.error(\"this is an error message\")\n",
    "logging.critical(\"This is critical message \")"
   ]
  },
  {
   "cell_type": "markdown",
   "metadata": {},
   "source": [
    "### Logging with Multiple Loggers"
   ]
  },
  {
   "cell_type": "code",
   "execution_count": 3,
   "metadata": {},
   "outputs": [],
   "source": [
    "# we can create multiple loggers for different parts of our applications \n",
    "import logging\n",
    "\n",
    "## create a logger for module1\n",
    "logger1=logging.getLogger(\"module1\")\n",
    "logger1.setLevel(logging.DEBUG)\n",
    "\n",
    "\n",
    "## create a logger for module 2\n",
    "logger2=logging.getLogger(\"module2\")\n",
    "logger2.setLevel(logging.WARNING)\n",
    "#config logging settings \n",
    "logging.basicConfig(\n",
    "    level=logging.DEBUG,\n",
    "    format='%(asctime)s-%(name)s-%(levelname)s-%(message)s',\n",
    "    datefmt='%Y-%m-%d %H:%M:%S',\n",
    "    force=True\n",
    ")\n"
   ]
  },
  {
   "cell_type": "code",
   "execution_count": 4,
   "metadata": {},
   "outputs": [
    {
     "name": "stderr",
     "output_type": "stream",
     "text": [
      "2025-03-02 22:47:26-module1-DEBUG-this is a debug messgae for module1/logger 1\n",
      "2025-03-02 22:47:26-module2-WARNING-this is a warning message for module 2\n"
     ]
    }
   ],
   "source": [
    "##log messages with different loggers \n",
    "logger1.debug(\"this is a debug messgae for module1/logger 1\")\n",
    "logger2.warning(\"this is a warning message for module 2\")\n"
   ]
  },
  {
   "cell_type": "code",
   "execution_count": null,
   "metadata": {},
   "outputs": [],
   "source": []
  }
 ],
 "metadata": {
  "kernelspec": {
   "display_name": "Python 3",
   "language": "python",
   "name": "python3"
  },
  "language_info": {
   "codemirror_mode": {
    "name": "ipython",
    "version": 3
   },
   "file_extension": ".py",
   "mimetype": "text/x-python",
   "name": "python",
   "nbconvert_exporter": "python",
   "pygments_lexer": "ipython3",
   "version": "3.12.0"
  }
 },
 "nbformat": 4,
 "nbformat_minor": 2
}
