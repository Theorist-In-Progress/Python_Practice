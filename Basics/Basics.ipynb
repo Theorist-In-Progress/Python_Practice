{
 "cells": [
  {
   "cell_type": "code",
   "execution_count": 1,
   "metadata": {},
   "outputs": [
    {
     "name": "stdout",
     "output_type": "stream",
     "text": [
      "2\n"
     ]
    }
   ],
   "source": [
    "print(1+1)"
   ]
  },
  {
   "cell_type": "code",
   "execution_count": 3,
   "metadata": {},
   "outputs": [
    {
     "name": "stdout",
     "output_type": "stream",
     "text": [
      "{1: 2, 2: 3, 3: 1, 65: 2, 12: 3, 45: 3, 23: 2}\n"
     ]
    }
   ],
   "source": [
    "# use a dictonary to count the frequency of elements in a list \n",
    "lst=[1,2,3,45,2,1,2,12,45,45,23,23,12,12,65,65]\n",
    "dict1={ele:lst.count(ele) for ele in set(lst)}\n",
    "print(dict1)"
   ]
  },
  {
   "cell_type": "markdown",
   "metadata": {},
   "source": [
    "## lets start with functions "
   ]
  },
  {
   "cell_type": "markdown",
   "metadata": {},
   "source": [
    "##### functions with multiple arguments i.e positional length and keyword arguments\n",
    "##### **kwargs are keyword arguments with key value pairs i.e name= lalit , class =89,place=sagar\n",
    "##### positional arguments are direct *args i.e a,1,3,5,3,name, information etx etc "
   ]
  },
  {
   "cell_type": "code",
   "execution_count": 4,
   "metadata": {},
   "outputs": [],
   "source": [
    "def Mixed_function(*args,**kwargs):\n",
    "    for num in args:\n",
    "        print(num)\n",
    "    for key,value in kwargs.items():\n",
    "        print(f\"{key}: {value}\")\n",
    "    \n"
   ]
  },
  {
   "cell_type": "code",
   "execution_count": 6,
   "metadata": {},
   "outputs": [
    {
     "name": "stdout",
     "output_type": "stream",
     "text": [
      "1\n",
      "2\n",
      "3\n",
      "4\n",
      "5\n",
      "abx\n",
      "name: lalit\n",
      "Class: abc\n",
      "identity: crazy\n"
     ]
    }
   ],
   "source": [
    "abc=Mixed_function(1,2,3,4,5,\"abx\",name=\"lalit\",Class=\"abc\",identity=\"crazy\")"
   ]
  },
  {
   "cell_type": "code",
   "execution_count": 16,
   "metadata": {},
   "outputs": [
    {
     "name": "stdout",
     "output_type": "stream",
     "text": [
      "True\n"
     ]
    }
   ],
   "source": [
    "# passowrd check function\n",
    "def strenght_check(passowrd):\n",
    "    if len(passowrd)<8:\n",
    "        return False\n",
    "    if not any(char.isdigit() for char in passowrd):\n",
    "        return False\n",
    "    if not any(char.isupper() for char in passowrd):\n",
    "        return False\n",
    "    if not any(char.lower() for char in passowrd):\n",
    "        return False \n",
    "    if not any(char in (\"@!#$&%*^()_+\") for char in passowrd):\n",
    "        return False\n",
    "    return True\n",
    "print(strenght_check(\"L@lits0ni\"))\n"
   ]
  },
  {
   "cell_type": "code",
   "execution_count": 17,
   "metadata": {},
   "outputs": [
    {
     "name": "stdout",
     "output_type": "stream",
     "text": [
      "210\n"
     ]
    }
   ],
   "source": [
    "# checking the price of items in the cart \n",
    "def price_calculator(cart):\n",
    "    cost=0\n",
    "    for items in cart:\n",
    "        cost+=items['price']*items['quantity']\n",
    "    return cost\n",
    "\n",
    "\n",
    "cart=[{\"name\":'apple','price':10,'quantity':3},{'name':'banana','price':5,'quantity':12},\n",
    "{'name':'guava','price':12,'quantity':10}\n",
    "]\n",
    "\n",
    "total=price_calculator(cart)\n",
    "print(total)"
   ]
  },
  {
   "cell_type": "code",
   "execution_count": null,
   "metadata": {},
   "outputs": [
    {
     "name": "stdout",
     "output_type": "stream",
     "text": [
      "{'This': 1, 'is': 1, 'my': 1, 'sample': 1, 'file': 2, 'for': 1, 'path': 1, 'check': 2}\n"
     ]
    }
   ],
   "source": [
    "# def word_frequency(filepath):\n",
    "#     word_count={}\n",
    "#     with open(filepath,'r') as file :\n",
    "#         for line in file:\n",
    "#             words=line.split()\n",
    "#             word_count={word:words.count(word) for word in words}\n",
    "#             return word_count\n",
    "\n",
    "# abc= word_frequency(r'sample.txt')\n",
    "# print(abc)\n",
    "        \n",
    "\"\"\" our this code is also working correclty but only for single line in sample.txt\"\"\""
   ]
  },
  {
   "cell_type": "code",
   "execution_count": 56,
   "metadata": {},
   "outputs": [
    {
     "name": "stdout",
     "output_type": "stream",
     "text": [
      "This is my sample file for file path check check \n",
      "\n",
      "['This', 'is', 'my', 'sample', 'file', 'for', 'file', 'path', 'check', 'check']\n",
      "{'This': 1, 'is': 1, 'my': 1, 'sample': 1, 'file': 2, 'for': 1, 'path': 1, 'check': 2}\n"
     ]
    }
   ],
   "source": [
    "def word_frequency(filepath):\n",
    "    word_count={}\n",
    "    with open(filepath,'r') as file :\n",
    "        for line in file:\n",
    "            words=line.split()\n",
    "            print(line)\n",
    "            print(words)\n",
    "            word_count={word:words.count(word) for word in words}\n",
    "            return word_count\n",
    "\n",
    "abc= word_frequency(r'sample.txt')\n",
    "print(abc)"
   ]
  },
  {
   "cell_type": "code",
   "execution_count": 155,
   "metadata": {},
   "outputs": [
    {
     "name": "stdout",
     "output_type": "stream",
     "text": [
      "Hey i ovewrwrite this file \n",
      "\n",
      "['Hey', 'i', 'ovewrwrite', 'this', 'file']\n",
      "{'H': 1, 'e': 4, 'y': 1, ' ': 5, 'i': 4, 'o': 1, 'v': 1, 'w': 2, 'r': 2, 't': 2, 'h': 1, 's': 1, 'f': 1, 'l': 1, '\\n': 1}\n",
      "i wrote the second line using lineesc\n",
      "['i', 'wrote', 'the', 'second', 'line', 'using', 'lineesc']\n",
      "{'i': 4, ' ': 6, 'w': 1, 'r': 1, 'o': 2, 't': 2, 'e': 6, 'h': 1, 's': 3, 'c': 2, 'n': 4, 'd': 1, 'l': 2, 'u': 1, 'g': 1}\n"
     ]
    }
   ],
   "source": [
    "def word_frequency(filepath):\n",
    "    word_count={}\n",
    "    with open(filepath,'r') as file :\n",
    "        for line in file:\n",
    "            print(line)\n",
    "            print(line.split())\n",
    "            word_count={word:line.count(word) for word in line}\n",
    "            print(word_count)\n",
    "            \n",
    "            \"\"\" see this method is not working  for the differents lines , the two methods will work only for single line strings \"\"\"\n",
    "\n",
    "word_frequency(r'sample.txt')\n"
   ]
  },
  {
   "cell_type": "code",
   "execution_count": 31,
   "metadata": {},
   "outputs": [
    {
     "data": {
      "text/plain": [
       "{'this': 1,\n",
       " 'is': 1,\n",
       " 'my': 1,\n",
       " 'sample': 1,\n",
       " 'file': 2,\n",
       " 'for': 1,\n",
       " 'path': 1,\n",
       " 'check': 3,\n",
       " 'one': 2,\n",
       " 'two': 2}"
      ]
     },
     "execution_count": 31,
     "metadata": {},
     "output_type": "execute_result"
    }
   ],
   "source": [
    "def word_frequency1(filepath):\n",
    "    word_count={}\n",
    "    with open(filepath,'r') as file :\n",
    "        for line in file:\n",
    "           words=line.split()\n",
    "           # after splitting if we try to print it will show words for only one line not for other \n",
    "           for word in words:\n",
    "            word=word.lower().strip(',:?.;\"\\'')\n",
    "            # the above line will remove the widespace new lines etc etc from the file if there is any \n",
    "            word_count[word]=word_count.get(word,0)+1\n",
    "            \n",
    "    return word_count\n",
    "\n",
    "word_frequency1(r'sample.txt')\n"
   ]
  },
  {
   "cell_type": "markdown",
   "metadata": {},
   "source": [
    "### lambda function"
   ]
  },
  {
   "cell_type": "markdown",
   "metadata": {},
   "source": [
    "#### lambda arguments:expression"
   ]
  },
  {
   "cell_type": "markdown",
   "metadata": {},
   "source": []
  },
  {
   "cell_type": "code",
   "execution_count": 32,
   "metadata": {},
   "outputs": [
    {
     "data": {
      "text/plain": [
       "True"
      ]
     },
     "execution_count": 32,
     "metadata": {},
     "output_type": "execute_result"
    }
   ],
   "source": [
    "def even_check(num):\n",
    "    if num %2==0:\n",
    "        return True\n",
    "even_check(20)"
   ]
  },
  {
   "cell_type": "code",
   "execution_count": 33,
   "metadata": {},
   "outputs": [],
   "source": [
    "even_check=lambda num:num%2==0"
   ]
  },
  {
   "cell_type": "code",
   "execution_count": 34,
   "metadata": {},
   "outputs": [
    {
     "data": {
      "text/plain": [
       "True"
      ]
     },
     "execution_count": 34,
     "metadata": {},
     "output_type": "execute_result"
    }
   ],
   "source": [
    "even_check(30)"
   ]
  },
  {
   "cell_type": "code",
   "execution_count": 36,
   "metadata": {},
   "outputs": [
    {
     "data": {
      "text/plain": [
       "[1, 4, 9, 16, 25, 36, 49, 64]"
      ]
     },
     "execution_count": 36,
     "metadata": {},
     "output_type": "execute_result"
    }
   ],
   "source": [
    "def square(x):\n",
    "    return x*x\n",
    "### MaP function \n",
    "list1=[1,2,3,4,5,6,7,8]\n",
    "list(map(square,list1))"
   ]
  },
  {
   "cell_type": "code",
   "execution_count": 37,
   "metadata": {},
   "outputs": [
    {
     "data": {
      "text/plain": [
       "[1, 4, 27, 256, 3125, 46656, 823543, 16777216]"
      ]
     },
     "execution_count": 37,
     "metadata": {},
     "output_type": "execute_result"
    }
   ],
   "source": [
    "list(map(lambda x:x**x,list1))"
   ]
  },
  {
   "cell_type": "code",
   "execution_count": 38,
   "metadata": {},
   "outputs": [
    {
     "data": {
      "text/plain": [
       "[4, 7, 12]"
      ]
     },
     "execution_count": 38,
     "metadata": {},
     "output_type": "execute_result"
    }
   ],
   "source": [
    "# map with multiple arguments\n",
    "number1=[1,2,4]\n",
    "number2=[3,5,8]\n",
    "list(map(lambda x,y:x+y,number1,number2))\n",
    "\n"
   ]
  },
  {
   "cell_type": "code",
   "execution_count": null,
   "metadata": {},
   "outputs": [],
   "source": [
    "def get_name(persons):\n",
    "    return persons['name']\n",
    "## see the above line will only give for single element of a list \n",
    "# bnus=[\n",
    "# {'name':'lalit','age':22,'city':'sagar'}\n",
    "# {'name':'aastha','age':22,'city':'sagar'}\n",
    "# {'name':'pooja','age':22,'city':'sagar'}\n",
    "# ]\n",
    "\n",
    "# # now if we try to apply this with above function \n",
    "# get_name(names)"
   ]
  },
  {
   "cell_type": "code",
   "execution_count": 49,
   "metadata": {},
   "outputs": [
    {
     "ename": "TypeError",
     "evalue": "list indices must be integers or slices, not str",
     "output_type": "error",
     "traceback": [
      "\u001b[1;31m---------------------------------------------------------------------------\u001b[0m",
      "\u001b[1;31mTypeError\u001b[0m                                 Traceback (most recent call last)",
      "Cell \u001b[1;32mIn[49], line 2\u001b[0m\n\u001b[0;32m      1\u001b[0m abc\u001b[38;5;241m=\u001b[39m[{\u001b[38;5;124m'\u001b[39m\u001b[38;5;124mname\u001b[39m\u001b[38;5;124m'\u001b[39m:\u001b[38;5;124m'\u001b[39m\u001b[38;5;124mlalit\u001b[39m\u001b[38;5;124m'\u001b[39m,\u001b[38;5;124m'\u001b[39m\u001b[38;5;124mclass\u001b[39m\u001b[38;5;124m'\u001b[39m:\u001b[38;5;241m22\u001b[39m},{\u001b[38;5;124m'\u001b[39m\u001b[38;5;124mname\u001b[39m\u001b[38;5;124m'\u001b[39m:\u001b[38;5;124m'\u001b[39m\u001b[38;5;124maastha\u001b[39m\u001b[38;5;124m'\u001b[39m,\u001b[38;5;124m'\u001b[39m\u001b[38;5;124mclass\u001b[39m\u001b[38;5;124m'\u001b[39m:\u001b[38;5;241m23\u001b[39m}]\n\u001b[1;32m----> 2\u001b[0m \u001b[43mget_name\u001b[49m\u001b[43m(\u001b[49m\u001b[43mabc\u001b[49m\u001b[43m)\u001b[49m\n\u001b[0;32m      3\u001b[0m \u001b[38;5;66;03m# now if we try to apply this with above function\u001b[39;00m\n",
      "Cell \u001b[1;32mIn[44], line 2\u001b[0m, in \u001b[0;36mget_name\u001b[1;34m(persons)\u001b[0m\n\u001b[0;32m      1\u001b[0m \u001b[38;5;28;01mdef\u001b[39;00m\u001b[38;5;250m \u001b[39m\u001b[38;5;21mget_name\u001b[39m(persons):\n\u001b[1;32m----> 2\u001b[0m     \u001b[38;5;28;01mreturn\u001b[39;00m \u001b[43mpersons\u001b[49m\u001b[43m[\u001b[49m\u001b[38;5;124;43m'\u001b[39;49m\u001b[38;5;124;43mname\u001b[39;49m\u001b[38;5;124;43m'\u001b[39;49m\u001b[43m]\u001b[49m\n",
      "\u001b[1;31mTypeError\u001b[0m: list indices must be integers or slices, not str"
     ]
    }
   ],
   "source": [
    "abc=[{'name':'lalit','class':22},{'name':'aastha','class':23}]\n",
    "get_name(abc)\n",
    "# now if we try to apply this with above function"
   ]
  },
  {
   "cell_type": "code",
   "execution_count": 50,
   "metadata": {},
   "outputs": [
    {
     "data": {
      "text/plain": [
       "['lalit', 'aastha']"
      ]
     },
     "execution_count": 50,
     "metadata": {},
     "output_type": "execute_result"
    }
   ],
   "source": [
    "list(map(get_name,abc))"
   ]
  },
  {
   "cell_type": "markdown",
   "metadata": {},
   "source": [
    "### Filter"
   ]
  },
  {
   "cell_type": "code",
   "execution_count": 53,
   "metadata": {},
   "outputs": [
    {
     "name": "stdout",
     "output_type": "stream",
     "text": [
      "[54, 8, 32, 54]\n"
     ]
    }
   ],
   "source": [
    "# it filters out the elements from a iterables based on a condition \n",
    "listtt=[1,2,3,54,5,7,7,8,7,33,32,54]\n",
    "greater_and_even=list(filter(lambda x:x>5 and x%2==0,listtt))\n",
    "print(greater_and_even)"
   ]
  },
  {
   "cell_type": "code",
   "execution_count": 63,
   "metadata": {},
   "outputs": [],
   "source": [
    "def writing(lst, filepath):\n",
    "    with open(filepath,'w') as file:\n",
    "        for ele in lst:\n",
    "            file.write(f\"{ele}\\n\")\n",
    "    \n",
    "\n",
    "writing([1,2,3,5,5,6],r'D:\\Python_practice\\Basics\\sample.txt')"
   ]
  },
  {
   "cell_type": "code",
   "execution_count": 64,
   "metadata": {},
   "outputs": [
    {
     "data": {
      "text/plain": [
       "69"
      ]
     },
     "execution_count": 64,
     "metadata": {},
     "output_type": "execute_result"
    }
   ],
   "source": [
    "def find_max(numbers):\n",
    "    return max(numbers)\n",
    "find_max([1,23,43,22,45,69])"
   ]
  },
  {
   "cell_type": "code",
   "execution_count": 65,
   "metadata": {},
   "outputs": [
    {
     "data": {
      "text/plain": [
       "[2, 3, 4, 5, 6, 7, 9]"
      ]
     },
     "execution_count": 65,
     "metadata": {},
     "output_type": "execute_result"
    }
   ],
   "source": [
    "def remove_duplicates(lst):\n",
    "    return list(set(lst))\n",
    "\n",
    "remove_duplicates([2,2,9,9,4,6,4,6,5,6,7,3])"
   ]
  },
  {
   "cell_type": "code",
   "execution_count": 88,
   "metadata": {},
   "outputs": [],
   "source": [
    "def reverse_list(lst):\n",
    "    return list(reversed(lst))\n",
    "    \n",
    "\n"
   ]
  },
  {
   "cell_type": "code",
   "execution_count": 91,
   "metadata": {},
   "outputs": [
    {
     "ename": "SyntaxError",
     "evalue": "invalid syntax (3255545020.py, line 2)",
     "output_type": "error",
     "traceback": [
      "\u001b[1;36m  Cell \u001b[1;32mIn[91], line 2\u001b[1;36m\u001b[0m\n\u001b[1;33m    return ((x,y) for ele in lst if ele%2==0 x+=1 else y+=1 )\u001b[0m\n\u001b[1;37m                                             ^\u001b[0m\n\u001b[1;31mSyntaxError\u001b[0m\u001b[1;31m:\u001b[0m invalid syntax\n"
     ]
    }
   ],
   "source": [
    "def count_even_odd(lst):\n",
    "    return ((x,y) for ele in lst if ele%2==0 x+=1 else y+=1 )\n",
    "\n"
   ]
  },
  {
   "cell_type": "code",
   "execution_count": 96,
   "metadata": {},
   "outputs": [],
   "source": [
    "def count_even_odd(lst):\n",
    "    a=0\n",
    "    b=0\n",
    "    for ele in lst:\n",
    "        if ele%2==0:\n",
    "            a+=1\n",
    "        else:\n",
    "            b+=1\n",
    "    return (a,b) "
   ]
  },
  {
   "cell_type": "code",
   "execution_count": 98,
   "metadata": {},
   "outputs": [
    {
     "data": {
      "text/plain": [
       "(4, 2)"
      ]
     },
     "execution_count": 98,
     "metadata": {},
     "output_type": "execute_result"
    }
   ],
   "source": [
    "count_even_odd([2,4,5,7,8,20])"
   ]
  },
  {
   "cell_type": "code",
   "execution_count": 99,
   "metadata": {},
   "outputs": [],
   "source": [
    "\"\"\" another way of writing the same code \"\"\" \n",
    "def count_even_odd_12(lst=[]):\n",
    "    even_count=sum(1 for ele in lst if ele%2==0)\n",
    "    odd_count=sum(1 for ele in lst if ele%2 !=0)\n",
    "    return (even_count,odd_count)"
   ]
  },
  {
   "cell_type": "code",
   "execution_count": 100,
   "metadata": {},
   "outputs": [
    {
     "data": {
      "text/plain": [
       "(4, 5)"
      ]
     },
     "execution_count": 100,
     "metadata": {},
     "output_type": "execute_result"
    }
   ],
   "source": [
    "count_even_odd_12([369,456,34,234,46,3221,211,21,451])"
   ]
  },
  {
   "cell_type": "code",
   "execution_count": 102,
   "metadata": {},
   "outputs": [
    {
     "data": {
      "text/plain": [
       "False"
      ]
     },
     "execution_count": 102,
     "metadata": {},
     "output_type": "execute_result"
    }
   ],
   "source": [
    "lst1=[1,2,3]\n",
    "lst2=[1,2,5]\n",
    "lst1==lst2"
   ]
  },
  {
   "cell_type": "code",
   "execution_count": 103,
   "metadata": {},
   "outputs": [],
   "source": [
    "\"\"\" write a python program to find the maximum consecutive difference between elements in a list\"\"\" \n",
    "def find_maxx(lst):\n",
    "    max_diff=0\n",
    "\n",
    "\n",
    "\n",
    "    \n",
    "    for num in range(len(lst)-1):\n",
    "        diff=abs(lst[num]-lst[num+1])\n",
    "        max_diff=max(max_diff,diff)\n",
    "    return max_diff\n"
   ]
  },
  {
   "cell_type": "code",
   "execution_count": 104,
   "metadata": {},
   "outputs": [
    {
     "data": {
      "text/plain": [
       "0"
      ]
     },
     "execution_count": 104,
     "metadata": {},
     "output_type": "execute_result"
    }
   ],
   "source": [
    "find_maxx([1,3,7,10])"
   ]
  },
  {
   "cell_type": "code",
   "execution_count": 105,
   "metadata": {},
   "outputs": [],
   "source": [
    "def max_difference(lst):\n",
    "    if len(lst) < 2:\n",
    "        return 0  # If the list has fewer than 2 elements, return 0 (no consecutive elements)\n",
    "\n",
    "    max_diff = 0  # Initialize the max_diff variable to store the maximum difference\n",
    "    for i in range(len(lst) - 1):  # Loop through the list from the first element to the second last element\n",
    "        diff = abs(lst[i] - lst[i + 1])  # Calculate the absolute difference between consecutive elements, if we don't use the abs it will may give positive or negative value\n",
    "        max_diff = max(max_diff, diff)  # Update the maximum difference if the current difference is larger\n",
    "\n",
    "    return max_diff  "
   ]
  },
  {
   "cell_type": "code",
   "execution_count": 106,
   "metadata": {},
   "outputs": [
    {
     "data": {
      "text/plain": [
       "4"
      ]
     },
     "execution_count": 106,
     "metadata": {},
     "output_type": "execute_result"
    }
   ],
   "source": [
    "max_difference([1,3,7,10])"
   ]
  },
  {
   "cell_type": "code",
   "execution_count": 108,
   "metadata": {},
   "outputs": [
    {
     "name": "stdout",
     "output_type": "stream",
     "text": [
      "[1, 2, 2, 4, 12, 34, 56]\n"
     ]
    }
   ],
   "source": [
    "absa=sorted([1,2,4,56]+[34,2,12])\n",
    "print(absa)"
   ]
  },
  {
   "cell_type": "code",
   "execution_count": 113,
   "metadata": {},
   "outputs": [],
   "source": [
    "# function to rotate a list \n",
    "def rotate_list(lst, k):\n",
    "    return lst[k:]+lst[:k]"
   ]
  },
  {
   "cell_type": "code",
   "execution_count": 114,
   "metadata": {},
   "outputs": [
    {
     "data": {
      "text/plain": [
       "[3, 4, 5, 1, 2]"
      ]
     },
     "execution_count": 114,
     "metadata": {},
     "output_type": "execute_result"
    }
   ],
   "source": [
    "rotate_list(lst = [1, 2, 3, 4, 5], k = 2)"
   ]
  },
  {
   "cell_type": "code",
   "execution_count": 123,
   "metadata": {},
   "outputs": [
    {
     "data": {
      "text/plain": [
       "[3, 4, 5, 6]"
      ]
     },
     "execution_count": 123,
     "metadata": {},
     "output_type": "execute_result"
    }
   ],
   "source": [
    "lst2=[1,2,3,4,5,6]\n",
    "lst2[2:]"
   ]
  },
  {
   "cell_type": "code",
   "execution_count": 124,
   "metadata": {},
   "outputs": [
    {
     "name": "stdout",
     "output_type": "stream",
     "text": [
      "Rotated List: [4, 5, 1, 2, 3]\n"
     ]
    }
   ],
   "source": [
    "def rotate_list(lst, k):\n",
    "    n = len(lst)\n",
    "    if n == 0:  # Handle empty list\n",
    "        return lst\n",
    "    k = k % n  # If k is larger than n, rotate k % n times\n",
    "    \n",
    "    for _ in range(k):\n",
    "        last_element = lst.pop()  # Remove the last element\n",
    "        lst.insert(0, last_element)  # Insert it at the beginning of the list\n",
    "    \n",
    "    return lst\n",
    "\n",
    "# Example usage:\n",
    "lst = [1, 2, 3, 4, 5]\n",
    "k = 2\n",
    "rotated_lst = rotate_list(lst, k)\n",
    "print(\"Rotated List:\", rotated_lst)"
   ]
  },
  {
   "cell_type": "code",
   "execution_count": null,
   "metadata": {},
   "outputs": [],
   "source": [
    "def merge_lists_to_dictionary(keys, values):\n",
    "    if len(keys)!=len(values):\n",
    "        return {}\n",
    "    dic={a:b for a in keys for b in values}\n",
    "    return dic"
   ]
  },
  {
   "cell_type": "code",
   "execution_count": 132,
   "metadata": {},
   "outputs": [
    {
     "data": {
      "text/plain": [
       "{'a': 5, 'b': 5, 'c': 5, 'd': 5, 'e': 5}"
      ]
     },
     "execution_count": 132,
     "metadata": {},
     "output_type": "execute_result"
    }
   ],
   "source": [
    "merge_lists_to_dictionary(['a','b','c','d','e'],[1,2,3,4,5])"
   ]
  },
  {
   "cell_type": "code",
   "execution_count": 134,
   "metadata": {},
   "outputs": [],
   "source": [
    "\"\"\"Design a Python function named merge_lists_to_dictionary to merge two lists into a dictionary \n",
    "where elements from the first list act as keys and elements from the second list act as values.\"\"\"\n",
    "\n",
    "def merge_lists_to_dictionary(keys, values):\n",
    "    if (len(keys)!=len(values)):\n",
    "        return False\n",
    "    dic={}\n",
    "    for i in range(len(keys)):\n",
    "        dic[keys[i]]=values[i]\n",
    "    return dic \n",
    "        "
   ]
  },
  {
   "cell_type": "code",
   "execution_count": 136,
   "metadata": {},
   "outputs": [],
   "source": [
    "\"\"\" write a program to merge three dictonaries\"\"\"\n",
    "def merge_three_dictionaries(dict1, dict2, dict3):\n",
    "    merged_dict={**dict1,**dict2,**dict3}\n",
    "\n",
    "    return merged_dict\n",
    "\n",
    "    ## ** called unpakcing operator \n"
   ]
  },
  {
   "cell_type": "code",
   "execution_count": 137,
   "metadata": {},
   "outputs": [
    {
     "data": {
      "text/plain": [
       "{'a': 1, 'b': 3, 'c': 4, 'd': 6, 'e': 7, 'f': 9, 'gg': 23, 'hg': 44}"
      ]
     },
     "execution_count": 137,
     "metadata": {},
     "output_type": "execute_result"
    }
   ],
   "source": [
    "merge_three_dictionaries({'a':1,'b':3,'c':4},{'d':6,'e':7,'f':9},{'gg':23,'hg':44})"
   ]
  },
  {
   "cell_type": "code",
   "execution_count": 138,
   "metadata": {},
   "outputs": [
    {
     "data": {
      "text/plain": [
       "{'hello': 2, 'world': 1}"
      ]
     },
     "execution_count": 138,
     "metadata": {},
     "output_type": "execute_result"
    }
   ],
   "source": [
    "def count_word_frequency(sentence):\n",
    "    return {a:sentence.count(a) for a in sentence.split()}\n",
    "count_word_frequency('hello world hello')"
   ]
  },
  {
   "cell_type": "code",
   "execution_count": 139,
   "metadata": {},
   "outputs": [
    {
     "data": {
      "text/plain": [
       "True"
      ]
     },
     "execution_count": 139,
     "metadata": {},
     "output_type": "execute_result"
    }
   ],
   "source": [
    "def is_palindromic_tuple(tup):\n",
    "    if tup[::]==tup[::-1]:\n",
    "        return True \n",
    "    else:\n",
    "        False\n",
    "is_palindromic_tuple(('a','b','a'))"
   ]
  },
  {
   "cell_type": "code",
   "execution_count": 143,
   "metadata": {},
   "outputs": [],
   "source": [
    "\n",
    "\"\"\"Design a Python function named merge_dicts_with_overlapping_keys that merges multiple dictionaries into a single dictionary.\n",
    " If a key appears in more than one dictionary, sum up their values.\n",
    "\n",
    "\"\"\"\n",
    "def merge_dicts_with_overlapping_keys(dicts):\n",
    "\n",
    "    merged_dict={}\n",
    "    for ele in dicts:\n",
    "        for key,value in ele.items():\n",
    "            if key in merged_dict:\n",
    "                # if key is already present in the dictonary then add \n",
    "                merged_dict[key]+=value\n",
    "            else:\n",
    "                merged_dict[key]=value\n",
    "\n",
    "\n",
    "\n",
    "    return merged_dict\n"
   ]
  },
  {
   "cell_type": "code",
   "execution_count": 144,
   "metadata": {},
   "outputs": [
    {
     "data": {
      "text/plain": [
       "{'a': 1, 'b': 5, 'c': 9, 'd': 6}"
      ]
     },
     "execution_count": 144,
     "metadata": {},
     "output_type": "execute_result"
    }
   ],
   "source": [
    "merge_dicts_with_overlapping_keys([{'a': b, 'b': 2}, {'b': 3, 'c': 4}, {'c': 5, 'd': 6}])"
   ]
  },
  {
   "cell_type": "markdown",
   "metadata": {},
   "source": [
    "HOW to Import Custom pacakage to another Directory , (other from the parent location )"
   ]
  },
  {
   "cell_type": "code",
   "execution_count": 147,
   "metadata": {},
   "outputs": [],
   "source": [
    "import sys \n",
    "sys.path.append(r'D:\\Python_practice\\Basics\\Modules\\Packages')"
   ]
  },
  {
   "cell_type": "code",
   "execution_count": 149,
   "metadata": {},
   "outputs": [],
   "source": [
    "import sys\n",
    "import os\n",
    "\n",
    "sys.path.append(os.path.abspath(os.path.join('Modules')))\n",
    "from Packages.Maaths import *"
   ]
  },
  {
   "cell_type": "code",
   "execution_count": 151,
   "metadata": {},
   "outputs": [
    {
     "data": {
      "text/plain": [
       "151"
      ]
     },
     "execution_count": 151,
     "metadata": {},
     "output_type": "execute_result"
    }
   ],
   "source": [
    "addition(57,94)"
   ]
  },
  {
   "cell_type": "code",
   "execution_count": 152,
   "metadata": {},
   "outputs": [
    {
     "name": "stdout",
     "output_type": "stream",
     "text": [
      "Today's date: 2025-01-26\n",
      "Date 100 days from today: 2025-05-06\n",
      "Day of the week for 2022-01-01: Saturday\n"
     ]
    }
   ],
   "source": [
    "import datetime\n",
    "\n",
    "# Current date\n",
    "today = datetime.date.today()\n",
    "print(f\"Today's date: {today}\")\n",
    "\n",
    "# Date 100 days from today\n",
    "future_date = today + datetime.timedelta(days=100)\n",
    "print(f\"Date 100 days from today: {future_date}\")\n",
    "\n",
    "# Day of the week for a given date\n",
    "given_date = datetime.date(2022, 1, 1)\n",
    "print(f\"Day of the week for 2022-01-01: {given_date.strftime('%A')}\")"
   ]
  },
  {
   "cell_type": "code",
   "execution_count": 1,
   "metadata": {},
   "outputs": [
    {
     "ename": "ModuleNotFoundError",
     "evalue": "No module named 'requests'",
     "output_type": "error",
     "traceback": [
      "\u001b[1;31m---------------------------------------------------------------------------\u001b[0m",
      "\u001b[1;31mModuleNotFoundError\u001b[0m                       Traceback (most recent call last)",
      "Cell \u001b[1;32mIn[1], line 1\u001b[0m\n\u001b[1;32m----> 1\u001b[0m \u001b[38;5;28;01mimport\u001b[39;00m\u001b[38;5;250m \u001b[39m\u001b[38;5;21;01mrequests\u001b[39;00m\n\u001b[0;32m      2\u001b[0m \u001b[38;5;28;01mdef\u001b[39;00m\u001b[38;5;250m \u001b[39m\u001b[38;5;21mread_url\u001b[39m(url):\n\u001b[0;32m      3\u001b[0m     \u001b[38;5;28;01mtry\u001b[39;00m:\n",
      "\u001b[1;31mModuleNotFoundError\u001b[0m: No module named 'requests'"
     ]
    }
   ],
   "source": [
    "import requests\n",
    "def read_url(url):\n",
    "    try:\n",
    "        response=requests.get(url) # sends req to fetch the data of url \n",
    "        response.raise_for_status() # check if request is successful,if not raise an exception \n",
    "        return response\n",
    "    except requests.RequestException as e:\n",
    "        print(f\"an error occured {e}\")\n",
    "        return None\n",
    "    finally:\n",
    "        print(\"execution complete\")"
   ]
  },
  {
   "cell_type": "code",
   "execution_count": null,
   "metadata": {},
   "outputs": [],
   "source": []
  }
 ],
 "metadata": {
  "kernelspec": {
   "display_name": "Python 3",
   "language": "python",
   "name": "python3"
  },
  "language_info": {
   "codemirror_mode": {
    "name": "ipython",
    "version": 3
   },
   "file_extension": ".py",
   "mimetype": "text/x-python",
   "name": "python",
   "nbconvert_exporter": "python",
   "pygments_lexer": "ipython3",
   "version": "3.12.0"
  }
 },
 "nbformat": 4,
 "nbformat_minor": 2
}
