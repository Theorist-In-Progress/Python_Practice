{
 "cells": [
  {
   "cell_type": "markdown",
   "metadata": {},
   "source": [
    "#### exceptions are the possible errors that occur in the program and disrupt it from the successful execution exception handling prevent the program from crashing in between the execution when an error occured   "
   ]
  },
  {
   "cell_type": "code",
   "execution_count": 4,
   "metadata": {},
   "outputs": [
    {
     "name": "stdout",
     "output_type": "stream",
     "text": [
      "this is the block of code that will execute if try executed successfully without any exception \n",
      "0.2\n",
      "no matter what this code will execute anyhow even if exception encountered \n"
     ]
    }
   ],
   "source": [
    "try:\n",
    "    num=int(input(\"provide a number\"))\n",
    "    result= 1/num\n",
    "except ZeroDivisionError as e:\n",
    "    print(e) # this will print the error message of zero error \n",
    "    print(\"this is our custom message if we want to pass\")\n",
    "except ValueError as v:\n",
    "    print(v)\n",
    "except Exception as E:\n",
    "    print(E)\n",
    "else:\n",
    "    print(\"this is the block of code that will execute if try executed successfully without any exception \")\n",
    "    print(result)\n",
    "finally:\n",
    "    print(\"no matter what this code will execute anyhow even if exception encountered \")\n"
   ]
  },
  {
   "cell_type": "code",
   "execution_count": 8,
   "metadata": {},
   "outputs": [
    {
     "name": "stdout",
     "output_type": "stream",
     "text": [
      "abc\n",
      "\n",
      "file closed successfully\n"
     ]
    }
   ],
   "source": [
    "try:\n",
    "    file=open('example.txt','r')\n",
    "    # there is no file as of now in present directory \n",
    "    content=file.read()\n",
    "    print(content)\n",
    "except FileNotFoundError as e:\n",
    "    print(e)\n",
    "except Exception as E:\n",
    "    print(E)\n",
    "finally:\n",
    "    if 'file' in locals() or not file.closed():\n",
    "        ## if file is not in local variable or file if file is there but its not closed then close the file.\n",
    "        file.close()\n",
    "        print(\"file closed successfully\")"
   ]
  },
  {
   "cell_type": "code",
   "execution_count": 6,
   "metadata": {},
   "outputs": [],
   "source": [
    "\"\"\"Write a function that reads the contents of a file named `data.txt`. Use try, except, and finally blocks \n",
    "to handle file not found errors and ensure the file is properly closed.\"\"\"\n",
    "def Reader(filepath):\n",
    "    try:\n",
    "        file=open(filepath,'r')\n",
    "        content=file.read()\n",
    "        return content\n",
    "    except FileNotFoundError as e:\n",
    "        print(\"there is no file in the present directory\")\n",
    "    finally:\n",
    "        if 'file' in locals():\n",
    "            file.close()\n",
    "            print(\"file closed successfully\")\n",
    "        else:\n",
    "            pass\n",
    "\n"
   ]
  },
  {
   "cell_type": "code",
   "execution_count": 7,
   "metadata": {},
   "outputs": [
    {
     "name": "stdout",
     "output_type": "stream",
     "text": [
      "file closed successfully\n"
     ]
    },
    {
     "data": {
      "text/plain": [
       "'this is my sample data file to check.\\n'"
      ]
     },
     "execution_count": 7,
     "metadata": {},
     "output_type": "execute_result"
    }
   ],
   "source": [
    "Reader('data.txt')"
   ]
  },
  {
   "cell_type": "code",
   "execution_count": 8,
   "metadata": {},
   "outputs": [],
   "source": [
    "\"\"\" function to take list of int and returns their sum \"\"\" \n",
    "def Summ(list):\n",
    "    try:\n",
    "        result=sum(ele for ele in list)\n",
    "    except TypeError as e:\n",
    "        print(e)\n",
    "    except Exception as ee:\n",
    "        print(f\"an error occured {ee}\")\n",
    "    else:\n",
    "        return result\n",
    "    finally:\n",
    "        print(\"code executed successfully\")\n"
   ]
  },
  {
   "cell_type": "code",
   "execution_count": 10,
   "metadata": {},
   "outputs": [
    {
     "name": "stdout",
     "output_type": "stream",
     "text": [
      "code executed successfully\n"
     ]
    },
    {
     "data": {
      "text/plain": [
       "21"
      ]
     },
     "execution_count": 10,
     "metadata": {},
     "output_type": "execute_result"
    }
   ],
   "source": [
    "Summ([5,7,9])"
   ]
  },
  {
   "cell_type": "code",
   "execution_count": 22,
   "metadata": {},
   "outputs": [],
   "source": [
    "\"\"\"Write a function that performs nested exception handling. It should first attempt to convert a string to an integer,\n",
    " and then attempt to divide by that integer. Use nested try, except,\n",
    " and finally blocks to handle ValueError and ZeroDivisionError and print appropriate messages.\"\"\" \n",
    "\n",
    "def nested_exception_handling(s):\n",
    "    try:\n",
    "        try:\n",
    "            num=int(s)\n",
    "        except ValueError as e:\n",
    "            print(f\"an error occured {e} \")\n",
    "            num=None\n",
    "        finally:\n",
    "            print(\"conversion attempt complete\")\n",
    "        if num is not None:\n",
    "            try:\n",
    "                result=10/num\n",
    "            except ZeroDivisionError as d:\n",
    "                print(d)\n",
    "            finally:\n",
    "                print(\" division execution complete\")\n",
    "            return result \n",
    "    finally:\n",
    "        print(\"overall all execution complete\") \n",
    "            "
   ]
  },
  {
   "cell_type": "code",
   "execution_count": 20,
   "metadata": {},
   "outputs": [
    {
     "name": "stdout",
     "output_type": "stream",
     "text": [
      "conversion attempt complete\n",
      " division execution complete\n",
      "overall all execution complete\n"
     ]
    },
    {
     "data": {
      "text/plain": [
       "1.0"
      ]
     },
     "execution_count": 20,
     "metadata": {},
     "output_type": "execute_result"
    }
   ],
   "source": [
    "nested_exception_handling(10)"
   ]
  },
  {
   "cell_type": "code",
   "execution_count": 25,
   "metadata": {},
   "outputs": [],
   "source": [
    "def get_list_element(List1,index=0):\n",
    "    try:\n",
    "        result=List1[index]\n",
    "    except IndexError as Ind:\n",
    "        print(f\"invalid index {Ind}\")\n",
    "    except Exception as EE:\n",
    "        print(EE)\n",
    "    finally:\n",
    "        print(\"execution complete\")\n",
    "    return f\" the ele at index {index} is {result}\"\n",
    "\n"
   ]
  },
  {
   "cell_type": "code",
   "execution_count": 26,
   "metadata": {},
   "outputs": [
    {
     "name": "stdout",
     "output_type": "stream",
     "text": [
      "execution complete\n"
     ]
    },
    {
     "data": {
      "text/plain": [
       "' the ele at index 2 is 56'"
      ]
     },
     "execution_count": 26,
     "metadata": {},
     "output_type": "execute_result"
    }
   ],
   "source": [
    "get_list_element([3,4,56,34,'sdt'],2)"
   ]
  },
  {
   "cell_type": "code",
   "execution_count": 41,
   "metadata": {},
   "outputs": [],
   "source": [
    "\"\"\" write a program to read the content of a URL \"\"\" \n",
    "import requests\n",
    "def read_url(url):\n",
    "    try:\n",
    "        response=requests.get(url) # sends req to fetch the data of url \n",
    "        response.raise_for_status() # check if request is successful,if not raise an exception \n",
    "        return response\n",
    "    except requests.RequestException as e:\n",
    "        print(f\"an error occured {e}\")\n",
    "        \n",
    "    finally:\n",
    "        print(\"execution complete\")\n"
   ]
  },
  {
   "cell_type": "code",
   "execution_count": 42,
   "metadata": {},
   "outputs": [
    {
     "name": "stdout",
     "output_type": "stream",
     "text": [
      "execution complete\n",
      "<Response [200]>\n"
     ]
    }
   ],
   "source": [
    "print(read_url('https://www.w3schools.com/html/html_examples.asp'))\n"
   ]
  },
  {
   "cell_type": "code",
   "execution_count": 43,
   "metadata": {},
   "outputs": [
    {
     "name": "stdout",
     "output_type": "stream",
     "text": [
      "d:\\Python_practice\\venv\\python.exe\n"
     ]
    }
   ],
   "source": [
    "import sys\n",
    "print(sys.executable)"
   ]
  },
  {
   "cell_type": "code",
   "execution_count": null,
   "metadata": {},
   "outputs": [],
   "source": []
  }
 ],
 "metadata": {
  "kernelspec": {
   "display_name": "venv",
   "language": "python",
   "name": "python3"
  },
  "language_info": {
   "codemirror_mode": {
    "name": "ipython",
    "version": 3
   },
   "file_extension": ".py",
   "mimetype": "text/x-python",
   "name": "python",
   "nbconvert_exporter": "python",
   "pygments_lexer": "ipython3",
   "version": "3.12.0"
  }
 },
 "nbformat": 4,
 "nbformat_minor": 2
}
