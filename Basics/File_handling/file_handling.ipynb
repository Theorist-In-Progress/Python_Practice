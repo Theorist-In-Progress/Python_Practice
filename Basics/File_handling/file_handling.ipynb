{
 "cells": [
  {
   "cell_type": "code",
   "execution_count": 2,
   "metadata": {},
   "outputs": [
    {
     "name": "stdout",
     "output_type": "stream",
     "text": [
      "1\n",
      "2\n",
      "3\n",
      "5\n",
      "5\n",
      "6\n",
      "THis is my first file and i am working with file handling \n",
      "\n"
     ]
    }
   ],
   "source": [
    "with open(r'D:\\Python_practice\\Basics\\sample.txt','r') as file:\n",
    "    content=file.read()\n",
    "    print(content)"
   ]
  },
  {
   "cell_type": "code",
   "execution_count": 3,
   "metadata": {},
   "outputs": [
    {
     "name": "stdout",
     "output_type": "stream",
     "text": [
      "<built-in function getcwd>\n"
     ]
    }
   ],
   "source": [
    "import os \n"
   ]
  },
  {
   "cell_type": "code",
   "execution_count": 7,
   "metadata": {},
   "outputs": [
    {
     "data": {
      "text/plain": [
       "'d:\\\\Python_practice\\\\Basics\\\\File_handling'"
      ]
     },
     "execution_count": 7,
     "metadata": {},
     "output_type": "execute_result"
    }
   ],
   "source": [
    "os.getcwd()"
   ]
  },
  {
   "cell_type": "code",
   "execution_count": 69,
   "metadata": {},
   "outputs": [
    {
     "name": "stdout",
     "output_type": "stream",
     "text": [
      "hey guys i am lalit\n",
      "here we are practicing the file_handling\n",
      "in this course we are learning our 5th module\n",
      "this is 2nd\n",
      "this is 3rd line\n"
     ]
    }
   ],
   "source": [
    "\"\"\" how to read a file line by line\"\"\"\n",
    "with open('example.txt','r') as file1:\n",
    "    for line in file1:\n",
    "        #see if we direclty print line , it will also print line esccape charater i.e new line space\n",
    "        #to remove these lineescape character we use .strip()\n",
    "        print(line.strip())"
   ]
  },
  {
   "cell_type": "code",
   "execution_count": 12,
   "metadata": {},
   "outputs": [],
   "source": [
    "\"\"\"overwrite the sample.txt \"\"\"\n",
    "with open(r'D:\\Python_practice\\Basics\\sample.txt','w') as samp:\n",
    "\n",
    "    samp.write(\"Hey i ovewrwrite this file \\n\")\n",
    "    samp.write(\"i wrote the second line using lineesc\")"
   ]
  },
  {
   "cell_type": "markdown",
   "metadata": {},
   "source": [
    "#### how to append new line to the files without overwriting"
   ]
  },
  {
   "cell_type": "code",
   "execution_count": 15,
   "metadata": {},
   "outputs": [],
   "source": [
    "with open('example.txt','a') as chan:\n",
    "    chan.write(\"hey i am adding the 3rd line through file hadnling \")"
   ]
  },
  {
   "cell_type": "code",
   "execution_count": 16,
   "metadata": {},
   "outputs": [],
   "source": [
    "# writing multiples lines of list into file \n",
    "lines=['this is my 1st line \\n','this is 2nd \\n', 'this is 3rd line \\n']\n",
    "with open('example.txt','a') as file:\n",
    "    file.writelines(lines) ## write lines method append the list of lines into the file at once  "
   ]
  },
  {
   "cell_type": "code",
   "execution_count": 57,
   "metadata": {},
   "outputs": [
    {
     "name": "stdout",
     "output_type": "stream",
     "text": [
      "5\n",
      "27\n"
     ]
    }
   ],
   "source": [
    "### Practice write a prgram to count the lines ,words and characters of the file \n",
    "def word_count(filepath):\n",
    "    \n",
    "\n",
    "    with open(filepath,'r') as file:\n",
    "        # print(file.readlines())\n",
    "        line_count=sum([line.count(line) for line in file])\n",
    "    \n",
    "        file.seek(0)\n",
    "        # word_count=sum(len(word) for word in line.split() for line in file)\n",
    "        # file.seek(0)\n",
    "        word_=sum(len(line.split()) for line in file)\n",
    "        print(line_count)\n",
    "        # print(word_count)\n",
    "        print(word_)\n",
    "        \n",
    "\n",
    "word_count('example.txt')\n"
   ]
  },
  {
   "cell_type": "markdown",
   "metadata": {},
   "source": [
    "#### in the above function we are using seek because everytime after reading cursor goes down to aviod it \n",
    "#### we can use .readlines() method which basically "
   ]
  },
  {
   "cell_type": "code",
   "execution_count": 60,
   "metadata": {},
   "outputs": [],
   "source": [
    "def Word_count1(filepath):\n",
    "    with open(filepath,'r') as file :\n",
    "        lines=file.readlines()\n",
    "        line_count=len(lines)               # OR we can use this sum(1 for line in lines)\n",
    "        word_counts=sum(len(line.split()) for line in lines)\n",
    "        char_count=sum(len(line) for line in lines)\n",
    "\n",
    "    return line_count,word_counts,char_count\n",
    "\n"
   ]
  },
  {
   "cell_type": "code",
   "execution_count": 59,
   "metadata": {},
   "outputs": [
    {
     "name": "stdout",
     "output_type": "stream",
     "text": [
      "['this', 'is', 'my', 'line']\n",
      "['this', 'is', '2nd']\n",
      "['this', 'is', 'third']\n"
     ]
    }
   ],
   "source": [
    "l1=['this is my line', 'this is 2nd', 'this is third']  ## just checking the logic \n",
    "for word in l1:\n",
    "    print(word.split())"
   ]
  },
  {
   "cell_type": "code",
   "execution_count": 61,
   "metadata": {},
   "outputs": [
    {
     "name": "stdout",
     "output_type": "stream",
     "text": [
      "the number of lines 5 \n",
      " number of words 27, \n",
      " number of chars 140\n"
     ]
    }
   ],
   "source": [
    "file_path='example.txt'\n",
    "len_lines,word_counts,char_counts = Word_count1(file_path)\n",
    "print(f\"the number of lines {len_lines} \\n number of words {word_counts}, \\n number of chars {char_counts}\")"
   ]
  },
  {
   "cell_type": "code",
   "execution_count": 62,
   "metadata": {},
   "outputs": [
    {
     "name": "stdout",
     "output_type": "stream",
     "text": [
      "d:\\Python_practice\\Basics\\File_handling\\Test\\example2.txt\n"
     ]
    }
   ],
   "source": [
    "dir=\"Test\"\n",
    "file=\"example2.txt\"\n",
    "full_path=os.path.join(os.getcwd(),dir,file)\n",
    "#this is return the full path from our current directory , to get relative path remove os.getcwd() from the full path \n",
    "print(full_path)"
   ]
  },
  {
   "cell_type": "code",
   "execution_count": 64,
   "metadata": {},
   "outputs": [
    {
     "name": "stdout",
     "output_type": "stream",
     "text": [
      "file path exist \n",
      "d:\\Python_practice\\Basics\\File_handling\\example.txt\n"
     ]
    }
   ],
   "source": [
    "## to check is file or path exist\n",
    "path='example.txt'\n",
    "if os.path.exists(path):\n",
    "    print(\"file path exist \")\n",
    "    print(os.path.abspath(path))\n",
    "else:\n",
    "    print(\"no file found\")"
   ]
  },
  {
   "cell_type": "code",
   "execution_count": 65,
   "metadata": {},
   "outputs": [
    {
     "name": "stdout",
     "output_type": "stream",
     "text": [
      "example.txt is a file \n"
     ]
    }
   ],
   "source": [
    "## to check if path is a file or directory \n",
    "path='example.txt'\n",
    "if os.path.isfile(path):\n",
    "    print(f\"{path} is a file \")\n",
    "elif os.path.isdir(path):\n",
    "    print(f\" this is a {path} dir\")\n",
    "else:\n",
    "    print(\"path doesn't exist\")\n"
   ]
  },
  {
   "cell_type": "code",
   "execution_count": 66,
   "metadata": {},
   "outputs": [
    {
     "name": "stdout",
     "output_type": "stream",
     "text": [
      "this is my first line with w+ mode \n",
      " this is my second line\n"
     ]
    }
   ],
   "source": [
    "\"\"\" writing and reading a file in w+mode\"\"\"\n",
    "with open('w_mode.txt','w+') as file:\n",
    "    file.write(\"this is my first line with w+ mode \\n this is my second line\")\n",
    "    #now here after writing the file the cursor is at the last of second line ..\"second line ..\"\n",
    "    # to read the file we need to set cursor in the beginning \n",
    "    file.seek(0)\n",
    "    content=file.read()\n",
    "    print(content)\n"
   ]
  },
  {
   "cell_type": "markdown",
   "metadata": {},
   "source": [
    "### Assessment Questions"
   ]
  },
  {
   "cell_type": "code",
   "execution_count": 86,
   "metadata": {},
   "outputs": [],
   "source": [
    "\"\"\" Question 2 write a list of lines in a file example.txt \"\"\"\n",
    "\n",
    "def write_content(filepath,list):\n",
    "    with open(filepath,'w+') as file:\n",
    "        for line in list:\n",
    "            file.write(line + '\\n')\n",
    "            \n",
    "            \n",
    "            \n",
    "\n"
   ]
  },
  {
   "cell_type": "code",
   "execution_count": 87,
   "metadata": {},
   "outputs": [],
   "source": [
    "write_content('example.txt',['we are testing ','assessment question 2'])"
   ]
  },
  {
   "cell_type": "code",
   "execution_count": 101,
   "metadata": {},
   "outputs": [],
   "source": [
    "\"\"\" question to copy the content from one and paste it to another \"\"\" \n",
    "def copy_paste(filepath1, filepath2):\n",
    "    with open(filepath1,'r') as file:\n",
    "        content=file.read()\n",
    "    with open(filepath2,'a') as file2:\n",
    "        \n",
    "        file2.write(content)\n",
    "    print(\"executed successfully \")"
   ]
  },
  {
   "cell_type": "code",
   "execution_count": 102,
   "metadata": {},
   "outputs": [
    {
     "name": "stdout",
     "output_type": "stream",
     "text": [
      "executed successfully \n"
     ]
    }
   ],
   "source": [
    "copy_paste('example.txt','w_mode.txt')"
   ]
  },
  {
   "cell_type": "code",
   "execution_count": 107,
   "metadata": {},
   "outputs": [],
   "source": [
    "\"\"\" count the number of words in a file \"\"\"\n",
    "def word_count(filepath):\n",
    "    with open(filepath,'r') as file:\n",
    "        word=sum(len(line.split()) for line in file)\n",
    "        return word\n",
    "\n",
    "# def word_count(filepath):\n",
    "#     with open(filepath,'r') as file:\n",
    "#         line=file.read()\n",
    "#         word=len(line.split())\n",
    "#         return word\n"
   ]
  },
  {
   "cell_type": "code",
   "execution_count": 108,
   "metadata": {},
   "outputs": [
    {
     "data": {
      "text/plain": [
       "19"
      ]
     },
     "execution_count": 108,
     "metadata": {},
     "output_type": "execute_result"
    }
   ],
   "source": [
    "word_count('w_mode.txt')"
   ]
  },
  {
   "cell_type": "code",
   "execution_count": 116,
   "metadata": {},
   "outputs": [],
   "source": [
    "\"\"\" write a program to replace all occurance of a text from a file \"\"\" \n",
    "def font_replacer(filepath, old_word,new_word):\n",
    "    with open(filepath,'r') as file:\n",
    "        content=file.read()\n",
    "    new_content=content.replace(old_word,new_word)\n",
    "    with open(filepath,'w') as file2:\n",
    "        file2.write(new_content)"
   ]
  },
  {
   "cell_type": "code",
   "execution_count": 117,
   "metadata": {},
   "outputs": [],
   "source": [
    "font_replacer('w_mode.txt','my','your')\n",
    "## the my will be replace  with 'your' from the file "
   ]
  },
  {
   "cell_type": "code",
   "execution_count": 118,
   "metadata": {},
   "outputs": [],
   "source": [
    "def reverse(filepath):\n",
    "    with open(filepath,'r') as file:\n",
    "        content=file.readlines()\n",
    "        print(type(content))\n",
    "        # the above line of code .readlines will return a list of  string lines in file i.e ['line1 \\n','line2 \\n']\n",
    "        for line in reversed(content):\n",
    "            print(line.strip())\n"
   ]
  },
  {
   "cell_type": "code",
   "execution_count": 119,
   "metadata": {},
   "outputs": [
    {
     "name": "stdout",
     "output_type": "stream",
     "text": [
      "<class 'list'>\n",
      "lets try through the function\n",
      "print the file line in reverse order\n",
      "This is my reverse  file to\n"
     ]
    }
   ],
   "source": [
    "reverse('reverse.txt')"
   ]
  },
  {
   "cell_type": "code",
   "execution_count": 125,
   "metadata": {},
   "outputs": [],
   "source": [
    "\"\"\" write a program to read the content of file and merger into a single output file \"\"\" \n",
    "def overwriter(file_list,outputfile):\n",
    "    with open(outputfile,'w') as wfile:\n",
    "        for file in file_list:\n",
    "            with open(file,'r') as rfile:\n",
    "                wfile.write(rfile.read())"
   ]
  },
  {
   "cell_type": "code",
   "execution_count": 126,
   "metadata": {},
   "outputs": [],
   "source": [
    "overwriter(['w_mode.txt','example.txt'],'merged.txt')"
   ]
  },
  {
   "cell_type": "code",
   "execution_count": 129,
   "metadata": {},
   "outputs": [],
   "source": [
    "\"\"\" write a function to create a log file along with a time stamp \"\"\" \n",
    "import datetime\n",
    "def log_write(message,filepath):\n",
    "    Timestamp=datetime.datetime.now().isoformat()\n",
    "    with open(filepath,'w+') as file:\n",
    "        file.write(f\"[{Timestamp}] {message} \\n\")"
   ]
  },
  {
   "cell_type": "code",
   "execution_count": 130,
   "metadata": {},
   "outputs": [],
   "source": [
    "log_write(\"hey this is my log file\",'my_log.log')"
   ]
  },
  {
   "cell_type": "code",
   "execution_count": null,
   "metadata": {},
   "outputs": [],
   "source": []
  }
 ],
 "metadata": {
  "kernelspec": {
   "display_name": "venv",
   "language": "python",
   "name": "python3"
  },
  "language_info": {
   "codemirror_mode": {
    "name": "ipython",
    "version": 3
   },
   "file_extension": ".py",
   "mimetype": "text/x-python",
   "name": "python",
   "nbconvert_exporter": "python",
   "pygments_lexer": "ipython3",
   "version": "3.12.0"
  }
 },
 "nbformat": 4,
 "nbformat_minor": 2
}
