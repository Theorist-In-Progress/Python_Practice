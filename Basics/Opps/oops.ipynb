{
 "cells": [
  {
   "cell_type": "markdown",
   "metadata": {},
   "source": [
    "### Classes and Objects "
   ]
  },
  {
   "cell_type": "code",
   "execution_count": 7,
   "metadata": {},
   "outputs": [
    {
     "name": "stdout",
     "output_type": "stream",
     "text": [
      "<__main__.Dog object at 0x000001F25A7A3980>\n",
      "buddy\n",
      "3\n"
     ]
    }
   ],
   "source": [
    "##instance Variable and Methods\n",
    "class Dog:\n",
    "    ##constructor Allow us to define attributes \n",
    "    def __init__(self,name,age):\n",
    "        #instance varibable are some kind of properties available inside the Dog class\n",
    "        self.name=name # self basically allowing python to understand that its an attribute Associated with dog class \n",
    "        self.age=age\n",
    "    \n",
    "\n",
    "\n",
    "#create object \n",
    "husky=Dog(\"buddy\",3)\n",
    "print(husky)\n",
    "print(husky.name)\n",
    "print(husky.age)\n",
    "\n"
   ]
  },
  {
   "cell_type": "code",
   "execution_count": 9,
   "metadata": {},
   "outputs": [
    {
     "name": "stdout",
     "output_type": "stream",
     "text": [
      "buddy says woof\n",
      "lucie says woof\n"
     ]
    }
   ],
   "source": [
    "## define a class with instance method \n",
    "class Dog:\n",
    "    def __init__(self,name,age):\n",
    "        self.name=name\n",
    "        self.age=age\n",
    "\n",
    "    # instance method\n",
    "    def bark(self):# here we used self to use the instance variable we have created above \n",
    "        print(f\"{self.name} says woof\")\n",
    "\n",
    "dog1=Dog(\"buddy\",3)\n",
    "dog2=Dog(\"lucie\",5)\n",
    "dog1.bark()\n",
    "dog2.bark()\n",
    "\n",
    "\n",
    "\n",
    "\n",
    "         \n"
   ]
  },
  {
   "cell_type": "code",
   "execution_count": 14,
   "metadata": {},
   "outputs": [],
   "source": [
    "# modelling a Bank account \n",
    "## define a class for bank account\n",
    "class BankAccount:\n",
    "    def __init__(self,owner,balance=0):\n",
    "        self.owner=owner\n",
    "        self.balance=balance\n",
    "\n",
    "    #define instance method \n",
    "    def deposit(self,amount):\n",
    "        self.balance+=amount\n",
    "        print(f\"hey amount is deposited ,balance {self.balance} \")\n",
    "    def withdraw(self,amount):\n",
    "        if amount>self.balance:\n",
    "            print(\"insufficient funds!!!\")\n",
    "        else:\n",
    "            self.balance-=amount\n",
    "            print(f\"balance remaning {self.balance}\")\n",
    "\n",
    "    "
   ]
  },
  {
   "cell_type": "code",
   "execution_count": 16,
   "metadata": {},
   "outputs": [
    {
     "name": "stdout",
     "output_type": "stream",
     "text": [
      "10000\n",
      "balance remaning 9700\n",
      "hey amount is deposited ,balance 10000 \n",
      "None\n"
     ]
    }
   ],
   "source": [
    "# create an object \n",
    "account=BankAccount(\"lalit\",10000)\n",
    "print(account.balance)\n",
    "account.withdraw(300)\n",
    "print(account.deposit(300))"
   ]
  },
  {
   "cell_type": "markdown",
   "metadata": {},
   "source": [
    "## Inheritance "
   ]
  },
  {
   "cell_type": "code",
   "execution_count": 32,
   "metadata": {},
   "outputs": [],
   "source": [
    "class Car:\n",
    "    def __init__(self,windows,doors,engine_type):\n",
    "        self.doors=doors\n",
    "        self.engine_type=engine_type\n",
    "        self.windows=windows\n",
    "    def drive():\n",
    "        print(f\"person will be driving {self.engine_type} car\")\n",
    "\n",
    "## single inheritence \n",
    "## child class tesla \n",
    "class Tesla(Car):\n",
    "    def __init__(self,windows,engine_type,doors,is_selfdriving,speed):\n",
    "        super().__init__(windows,doors,engine_type) ## super keyword allow us to call the attributes or methods of the parent class, here are we calling init method \n",
    "        self.is_selfdriving=is_selfdriving\n",
    "        self.speed=speed\n",
    "    def  max_speed(self):\n",
    "        print(f\"max speed of car is {self.speed}\")\n"
   ]
  },
  {
   "cell_type": "code",
   "execution_count": 33,
   "metadata": {},
   "outputs": [],
   "source": [
    "Tesla1=Tesla(4,'electric',4,True,320)\n"
   ]
  },
  {
   "cell_type": "code",
   "execution_count": 34,
   "metadata": {},
   "outputs": [
    {
     "name": "stdout",
     "output_type": "stream",
     "text": [
      "4\n",
      "4\n",
      "electric\n",
      "max speed of car is 320\n"
     ]
    }
   ],
   "source": [
    "print(Tesla1.windows)\n",
    "print(Tesla1.doors)\n",
    "\n",
    "print(Tesla1.engine_type)\n",
    "Tesla1.max_speed()"
   ]
  },
  {
   "cell_type": "code",
   "execution_count": 35,
   "metadata": {},
   "outputs": [
    {
     "name": "stdout",
     "output_type": "stream",
     "text": [
      "Dog husky says woof \n",
      "subclass must implement this method\n"
     ]
    }
   ],
   "source": [
    "## Multiple inhertiance : class inherit more than one base clasess.\n",
    "class Animal:\n",
    "    def __init__(self,name):\n",
    "        self.name=name\n",
    "    def speak(self):\n",
    "        print(\"subclass must implement this method\")\n",
    "\n",
    "#base class 2\n",
    "class Pet:\n",
    "    def __init__(self,owner):\n",
    "        self.owner=owner\n",
    "\n",
    "#child class\n",
    "class Dog(Animal,Pet):\n",
    "    def __init__(self,owner,name):\n",
    "        Animal.__init__(self,name)\n",
    "        Pet.__init__(self,owner)\n",
    "    def speak(self):\n",
    "        print(f\"Dog {self.name} says woof \")\n",
    "\n",
    "## see dog and animal both class have method named speak() but preference will be given to the one which object is being initialized\n",
    "dog1=Dog(name='husky',owner='lalit')\n",
    "dog2=Animal('pitbull')\n",
    "dog1.speak()\n",
    "dog2.speak()\n",
    "\n",
    "    \n"
   ]
  },
  {
   "cell_type": "code",
   "execution_count": 43,
   "metadata": {},
   "outputs": [
    {
     "name": "stdout",
     "output_type": "stream",
     "text": [
      "husky\n",
      "lalit\n"
     ]
    }
   ],
   "source": [
    "dog2=Dog(name='pitbull',owner='lalit')\n",
    "print(dog1.name +'\\n' + dog2.owner)"
   ]
  },
  {
   "cell_type": "markdown",
   "metadata": {},
   "source": [
    "## Polymorphism "
   ]
  },
  {
   "cell_type": "markdown",
   "metadata": {},
   "source": [
    "\n",
    "### method overriding \n",
    "#### Method overriding allows a child to provide a specific Implementation of a method that is already defined in its parent class "
   ]
  },
  {
   "cell_type": "code",
   "execution_count": 44,
   "metadata": {},
   "outputs": [],
   "source": [
    " class animal:\n",
    "    def speak(self):\n",
    "        print(\"animal makes a sound \")\n",
    "#derived class 1\n",
    "class Dog(animal):\n",
    "    def speak(self):\n",
    "        print(\"dog makes a sound woof \")\n",
    "\n",
    "class Cat(animal):\n",
    "    def speak(self):\n",
    "        print(\"cat makes sound meow!!!\")\n",
    "\n",
    "dog=Dog()\n",
    "cat=Cat()\n",
    "\n"
   ]
  },
  {
   "cell_type": "code",
   "execution_count": 47,
   "metadata": {},
   "outputs": [
    {
     "name": "stdout",
     "output_type": "stream",
     "text": [
      "dog makes a sound woof \n",
      "cat makes sound meow!!!\n"
     ]
    }
   ],
   "source": [
    "dog.speak()\n",
    "cat.speak()"
   ]
  },
  {
   "cell_type": "code",
   "execution_count": 48,
   "metadata": {},
   "outputs": [
    {
     "data": {
      "text/plain": [
       "' the area of rectangle is 20'"
      ]
     },
     "execution_count": 48,
     "metadata": {},
     "output_type": "execute_result"
    }
   ],
   "source": [
    "# polymorphism with functions and methods \n",
    "## base class \n",
    "class Shape:\n",
    "    def area(self):\n",
    "        return \" the area is >>>\"\n",
    "class Rectangle(Shape):\n",
    "    def __init__(self,width,height):\n",
    "        self.width=width\n",
    "        self.height=height\n",
    "    def area(self):\n",
    "        return f\" the area of rectangle is {self.width* self.height}\"\n",
    "\n",
    "# using function to demonstrate the polymorphism \n",
    "def print_area(shape):\n",
    "    return shape.area()\n",
    "\n",
    "# object \n",
    "rectangle=Rectangle(4,5)\n",
    "\n",
    "print_area(rectangle)"
   ]
  },
  {
   "cell_type": "markdown",
   "metadata": {},
   "source": [
    "##### according to the defination it can be achieved through overriding and Interfaces\n",
    "##### here we will discuss through interfaces or we can say abstract base class \n",
    "##### Abstract base class (ABCs) are used to define common methods for a group of related objects. they can enforce the derived classes implement particular methods,\n",
    "##### promoting consistency across different implementations \n"
   ]
  },
  {
   "cell_type": "markdown",
   "metadata": {},
   "source": [
    "### Encapsulation And Abstraction "
   ]
  },
  {
   "cell_type": "code",
   "execution_count": 60,
   "metadata": {},
   "outputs": [],
   "source": [
    "### encapsulation with Getter and Setter Methods \n",
    "### public , protected and private variables \n",
    " \n",
    "class Person:\n",
    "    def __init__(self,name ,age,gender):\n",
    "        self.name=name # this is a public varibale \n",
    "        self._age=age # this becomes a protected variable ,can be accessed from a derived class \n",
    "        self.__gender=gender # cann't  be accessed outside the class \n",
    "class Abc(Person):\n",
    "    def __init__(self,name,age,gender):\n",
    "        super().__init__(name,age,gender)\n",
    "\n",
    "# object \n",
    "pers=Person('Lalit',36,\"Male\")\n",
    "\n"
   ]
  },
  {
   "cell_type": "code",
   "execution_count": 66,
   "metadata": {},
   "outputs": [
    {
     "data": {
      "text/plain": [
       "35"
      ]
     },
     "execution_count": 66,
     "metadata": {},
     "output_type": "execute_result"
    }
   ],
   "source": [
    "pers2=Abc(\"lallu\",35,\"male\")\n",
    "pers2._age"
   ]
  },
  {
   "cell_type": "code",
   "execution_count": 67,
   "metadata": {},
   "outputs": [],
   "source": [
    "# Encapsulation with getter and setter methods\n",
    "# private varibale cant be called outside the class but can be used in methods inside the class "
   ]
  },
  {
   "cell_type": "code",
   "execution_count": 70,
   "metadata": {},
   "outputs": [
    {
     "name": "stdout",
     "output_type": "stream",
     "text": [
      "('lalit', 43, 'Male')\n",
      "None\n",
      "name changed\n",
      "None\n"
     ]
    }
   ],
   "source": [
    "class Person:\n",
    "    def __init__(self,name ,age,gender):\n",
    "        self.__name=name # all are pricate varibales \n",
    "        self.__age=age \n",
    "        self.__gender=gender\n",
    "\n",
    "    #getter method allow us to access private varibales thorugh methods defiend inside the class \n",
    "    def get_private(self):\n",
    "        return self.__name,self.__age,self.__gender \n",
    "\n",
    "    # setter method allow us to modify the values of varibales \n",
    "    def set_name(self,Name):\n",
    "        self.__name=Name\n",
    "        print(\"name changed\")\n",
    "    def set_age(self,age):\n",
    "        if age>0:\n",
    "            self.__age=age\n",
    "        else:\n",
    "            return\"cann't be changed\"\n",
    "\n",
    "Person1=Person(\"lalit\",43,'Male')\n",
    "print(Person1.get_private())\n",
    "print(Person1.set_age(46))\n",
    "print(Person1.set_name(\"Lalit\"))\n",
    "\n",
    "    "
   ]
  },
  {
   "cell_type": "markdown",
   "metadata": {},
   "source": [
    "#### Abstraction "
   ]
  },
  {
   "cell_type": "code",
   "execution_count": 71,
   "metadata": {},
   "outputs": [
    {
     "name": "stdout",
     "output_type": "stream",
     "text": [
      "car engine started\n",
      "the vehicle is used to travel\n"
     ]
    }
   ],
   "source": [
    "# abs is the process of hiding complex implementation details and showing only the necesssary deatails of an object.\n",
    "from abc import ABC,abstractmethod\n",
    "\n",
    "# abstract base class \n",
    "class Vehicle(ABC):\n",
    "    def drive(self):\n",
    "        print(\"the vehicle is used to travel\")\n",
    "    #defining abstract method \n",
    "    @abstractmethod \n",
    "    def start_engine(self):\n",
    "        pass\n",
    "\n",
    "\n",
    "class Car(Vehicle):\n",
    "    def start_engine(self):\n",
    "        print(\"car engine started\")\n",
    "    \n",
    "def operate_vehicle(vehicle):\n",
    "    vehicle.start_engine()\n",
    "    vehicle.drive()\n",
    "\n",
    "car=Car()\n",
    "operate_vehicle(car)\n",
    "\n",
    "\n"
   ]
  },
  {
   "cell_type": "markdown",
   "metadata": {},
   "source": [
    "## Practice Questions"
   ]
  },
  {
   "cell_type": "code",
   "execution_count": 74,
   "metadata": {},
   "outputs": [
    {
     "name": "stdout",
     "output_type": "stream",
     "text": [
      "123 35\n"
     ]
    }
   ],
   "source": [
    "### Question 5\n",
    "class Person:\n",
    "\n",
    "    def __init__(self,name,age):\n",
    "        self.name=name\n",
    "        self.age=age\n",
    "class Employee(Person):\n",
    "    def __init__(self,name,age,employee_id):\n",
    "        super().__init__(name,age)\n",
    "        self.employee_id=employee_id\n",
    "# test\n",
    "E1=Employee(\"Anshul\",35,123)\n",
    "print(E1.employee_id,\n",
    "E1.age)"
   ]
  },
  {
   "cell_type": "code",
   "execution_count": 75,
   "metadata": {},
   "outputs": [
    {
     "name": "stdout",
     "output_type": "stream",
     "text": [
      "Car(Brand: Tesla, Model: Model S)\n"
     ]
    }
   ],
   "source": [
    "class Car:\n",
    "    def __init__(self, brand, model):\n",
    "        self.brand = brand\n",
    "        self.model = model\n",
    "\n",
    "    def __str__(self):\n",
    "        return f\"Car(Brand: {self.brand}, Model: {self.model})\"\n",
    "\n",
    "car1 = Car(\"Tesla\", \"Model S\")\n",
    "print(car1)\n"
   ]
  },
  {
   "cell_type": "markdown",
   "metadata": {},
   "source": [
    "### Operator Overloading \n",
    "\n",
    " "
   ]
  },
  {
   "cell_type": "code",
   "execution_count": 77,
   "metadata": {},
   "outputs": [
    {
     "name": "stdout",
     "output_type": "stream",
     "text": [
      "Vector(6,8)\n",
      "Vector(-2,-2)\n",
      "Vector(8,15)\n"
     ]
    }
   ],
   "source": [
    "class Vector:\n",
    "    def __init__(self,x,y):\n",
    "        self.x=x\n",
    "        self.y=y\n",
    "    def __add__(self,other):\n",
    "        #other is another vector having x and y\n",
    "        # with return we are explicitly calling the Vector class so that the result can be futher used for more calculations \n",
    "        return Vector(self.x+other.x ,self.y+other.y)\n",
    "    def __mul__(self,other):\n",
    "        return Vector(self.x*other.x ,self.y*other.y)\n",
    "    def __sub__(self,other):\n",
    "        return Vector(self.x-other.x ,self.y-other.y) \n",
    "\n",
    "    def __repr__(self):\n",
    "        return f\"Vector({self.x},{self.y})\"   \n",
    "\n",
    "# objects\n",
    "v1=Vector(2,3)\n",
    "v2=Vector(4,5)\n",
    "\n",
    "print(v1+v2)\n",
    "print(v1-v2)\n",
    "print(v1*v2)"
   ]
  },
  {
   "cell_type": "markdown",
   "metadata": {},
   "source": [
    "### Custom Exception Handling \n"
   ]
  },
  {
   "cell_type": "code",
   "execution_count": 78,
   "metadata": {},
   "outputs": [],
   "source": [
    "class Error(Exception):\n",
    "    pass\n",
    "class dobException(Error):\n",
    "    pass\n"
   ]
  },
  {
   "cell_type": "code",
   "execution_count": 79,
   "metadata": {},
   "outputs": [
    {
     "name": "stdout",
     "output_type": "stream",
     "text": [
      "PLease enter a valid age , must be greater than 20 and smaller than 30 !!!\n"
     ]
    }
   ],
   "source": [
    "year=int(input(\"Enter the dob year\"))\n",
    "age=2024-year\n",
    "\n",
    "try:\n",
    "    if age<=30 and age>=20:\n",
    "        print(\"age is valid\")\n",
    "    else:\n",
    "        raise dobException\n",
    "        #here we are raising the error we need to catch this also \n",
    "\n",
    "except dobException:\n",
    "    print(\"PLease enter a valid age , must be greater than 20 and smaller than 30 !!!\")\n",
    "\n",
    "\n",
    "    "
   ]
  },
  {
   "cell_type": "markdown",
   "metadata": {},
   "source": [
    "#### Questions "
   ]
  },
  {
   "cell_type": "code",
   "execution_count": 80,
   "metadata": {},
   "outputs": [],
   "source": [
    "class Employee:\n",
    "    def __init__(self,name,age):\n",
    "        self.name=name\n",
    "        self.age=age\n",
    "    def __str__(self):\n",
    "        return f\"name:{self.name}, age:{self.age} \""
   ]
  },
  {
   "cell_type": "code",
   "execution_count": 82,
   "metadata": {},
   "outputs": [
    {
     "name": "stdout",
     "output_type": "stream",
     "text": [
      "name:Alice, age:30 \n"
     ]
    }
   ],
   "source": [
    "employee = Employee('Alice', 30)\n",
    "print(employee)"
   ]
  },
  {
   "cell_type": "code",
   "execution_count": 90,
   "metadata": {},
   "outputs": [
    {
     "name": "stdout",
     "output_type": "stream",
     "text": [
      "2\n",
      "2\n",
      "2\n"
     ]
    }
   ],
   "source": [
    "class Counter:\n",
    "    count=0\n",
    "    def __init__(self):\n",
    "        Counter.count+=1\n",
    "\n",
    "    @classmethod\n",
    "    def get_count(cls):\n",
    "        return cls.count\n",
    "\n",
    "#object\n",
    "c1=Counter()\n",
    "c2=Counter()\n",
    "print(c1.get_count())# a class method can be accessed by its instances \n",
    "print(Counter.get_count())\n",
    "print(c1.count)"
   ]
  },
  {
   "cell_type": "markdown",
   "metadata": {},
   "source": [
    "#### Static Method \n",
    "##### these are the methods that does not modify the instances of cls,(self ) object"
   ]
  },
  {
   "cell_type": "code",
   "execution_count": 92,
   "metadata": {},
   "outputs": [
    {
     "name": "stdout",
     "output_type": "stream",
     "text": [
      "9.899494936611665\n"
     ]
    }
   ],
   "source": [
    "import math \n",
    "class MathOperations:\n",
    "    @staticmethod\n",
    "    def square_rt(num):\n",
    "        return math.sqrt(num)\n",
    "\n",
    "# test\n",
    "print(MathOperations.square_rt(98))"
   ]
  },
  {
   "cell_type": "code",
   "execution_count": 127,
   "metadata": {},
   "outputs": [
    {
     "name": "stdout",
     "output_type": "stream",
     "text": [
      "10\n",
      "15\n"
     ]
    }
   ],
   "source": [
    "class Rectangle:\n",
    "    def __init__(self,length,width):\n",
    "        self.__length=length\n",
    "        self.__width=width\n",
    "    \n",
    "    @property\n",
    "    def length(self):\n",
    "        return self.__length\n",
    "        \n",
    "\n",
    "    @length.setter\n",
    "    def length(self,length):\n",
    "        self.__length=length\n",
    "    @property\n",
    "    def width(self):\n",
    "        return self.__width\n",
    "        \n",
    "\n",
    "    @width.setter\n",
    "    def width(self,width):\n",
    "        self.__width+=width    \n",
    "\n",
    "    # testing\n",
    "rectangle=Rectangle(10,15)\n",
    "print(rectangle.length)\n",
    "print(rectangle.width)"
   ]
  },
  {
   "cell_type": "code",
   "execution_count": 129,
   "metadata": {},
   "outputs": [
    {
     "data": {
      "text/plain": [
       "45"
      ]
     },
     "execution_count": 129,
     "metadata": {},
     "output_type": "execute_result"
    }
   ],
   "source": [
    "rectangle.width=15\n",
    "rectangle.width\n"
   ]
  },
  {
   "cell_type": "code",
   "execution_count": 106,
   "metadata": {},
   "outputs": [
    {
     "name": "stdout",
     "output_type": "stream",
     "text": [
      "16\n",
      "28.259999999999998\n"
     ]
    }
   ],
   "source": [
    "    from abc import ABC, abstractmethod\n",
    "    class Shape:\n",
    "        @abstractmethod\n",
    "        def self(area):\n",
    "            pass\n",
    "\n",
    "    #derived class 1\n",
    "    class Square(Shape):\n",
    "        def __init__(self,side):\n",
    "            self.side=side\n",
    "        def area(self):\n",
    "            return (self.side)**2\n",
    "\n",
    "    class Circle:\n",
    "        def __init__(self,radius):\n",
    "            self.radius=radius\n",
    "        def area(self):\n",
    "            return 3.14*self.radius*self.radius\n",
    "#object\n",
    "square=Square(4)\n",
    "print(square.area())\n",
    "circle=Circle(3)\n",
    "print(circle.area())"
   ]
  },
  {
   "cell_type": "code",
   "execution_count": 113,
   "metadata": {},
   "outputs": [
    {
     "name": "stdout",
     "output_type": "stream",
     "text": [
      "Vector(10,13)\n"
     ]
    }
   ],
   "source": [
    "#question 12\n",
    "#based on overloading \n",
    "class Vector:\n",
    "    def __init__(self,x,y):\n",
    "        self.x=x\n",
    "        self.y=y\n",
    "    def __add__(self,other):\n",
    "        return self.__class__(self.x+other.x , self.y+ other.y)\n",
    "    def __str__(self):\n",
    "        return f\"Vector({self.x},{self.y})\"\n",
    "#test \n",
    "v1=Vector(3,5)\n",
    "v2=Vector(7,8)\n",
    "v3=v1+v2\n",
    "print(v3)"
   ]
  },
  {
   "cell_type": "code",
   "execution_count": 115,
   "metadata": {},
   "outputs": [
    {
     "name": "stdout",
     "output_type": "stream",
     "text": [
      "Amount added sucessfully\n",
      "You don't have sufficient balance\n"
     ]
    },
    {
     "data": {
      "text/plain": [
       "'ramining balance 500'"
      ]
     },
     "execution_count": 115,
     "metadata": {},
     "output_type": "execute_result"
    }
   ],
   "source": [
    "# Custom Exception \n",
    "class InsufficientBalanceError(Exception):\n",
    "    #creating our own exception class while inheriting the main Exception\n",
    "    pass\n",
    "class BankAccount:\n",
    "    def __init__(self,account_number,balance=0):\n",
    "        self.__account_number=account_number\n",
    "        self.__balance=balance\n",
    "    def deposit(self,amount):\n",
    "        self.__balance+=amount\n",
    "        print(\"Amount added sucessfully\")\n",
    "    def withdraw(self,amount):\n",
    "        try:\n",
    "            if amount<self.__balance:\n",
    "                return f\"ramining balance {self.__balance-amount}\"\n",
    "            else:\n",
    "                raise InsufficientBalanceError\n",
    "        except InsufficientBalanceError as e:\n",
    "            print(\"You don't have sufficient balance\")\n",
    "    @property\n",
    "    def balance(self):\n",
    "        return self.__balance\n",
    "\n",
    "#testing \n",
    "lalit=BankAccount(1001,500)\n",
    "lalit.deposit(300)\n",
    "lalit.withdraw(1000)\n",
    "lalit.balance\n",
    "lalit.withdraw(300)\n",
    "    \n"
   ]
  },
  {
   "cell_type": "code",
   "execution_count": 116,
   "metadata": {},
   "outputs": [
    {
     "data": {
      "text/plain": [
       "800"
      ]
     },
     "execution_count": 116,
     "metadata": {},
     "output_type": "execute_result"
    }
   ],
   "source": [
    "lalit.balance"
   ]
  },
  {
   "cell_type": "code",
   "execution_count": 119,
   "metadata": {},
   "outputs": [],
   "source": [
    "# Context manager protocol \n",
    "class FileManger:\n",
    "    def __init__(self,filepath,mode):\n",
    "        self.filepath=filepath\n",
    "        self.mode=mode\n",
    "    def __enter__(self):\n",
    "        self.content=open(self.filepath,self.mode) # opening the file as storing in content object\n",
    "        ## enter special method runs at the starting of with statement \n",
    "        return self.content\n",
    "    def __exit__(self,exc_type,exc_value,traceback): \n",
    "        # exit method runs at the end of the with statement\n",
    "        self.content.close()\n",
    "        print(\"file closed successfully \")\n",
    "        if exc_type: \n",
    "            #we didn't use self with exc because its a function parameter not a instance variable \n",
    "            print(f\"an error occured : {exc_value}\")\n",
    "            return False # we are not supressing the error , let it propogate \n",
    "            # if we supress (by ret True) the error then we can't use Except block of excp handling \n",
    "    \"\"\" now as soon as an error occured inside the with statement , exception parameters are passed to the \n",
    "    exit method ,closing the file only released resources but not erase the exception details.\n",
    "    another thing exit anyways executes wether error occurs or not  \"\"\" \n",
    "\n",
    "\n",
    "\n",
    "        \n",
    "\n",
    "\n"
   ]
  },
  {
   "cell_type": "code",
   "execution_count": 121,
   "metadata": {},
   "outputs": [
    {
     "name": "stdout",
     "output_type": "stream",
     "text": [
      "file closed successfully \n"
     ]
    }
   ],
   "source": [
    "with FileManger(\"CMP_test.txt\",\"a\") as file:\n",
    "    file.write(\"this is my new line \")\n",
    "    # inside file manger the enter method executed and self.content is assigned here to \"as file\" object\n",
    "    #after this exit method will run "
   ]
  },
  {
   "cell_type": "code",
   "execution_count": 122,
   "metadata": {},
   "outputs": [
    {
     "name": "stdout",
     "output_type": "stream",
     "text": [
      "file closed successfully \n",
      "an error occured : not writable\n",
      "an error occured , this is except block :not writable\n"
     ]
    }
   ],
   "source": [
    "#try using exception handling\n",
    "try:\n",
    "    with FileManger(\"CMP_test.txt\",\"r\") as file:\n",
    "        file.write(\"this is my new line\")\n",
    "        #we intensionally  opened the file in r mode to detect the error \n",
    "except Exception as e:\n",
    "    print(f\"an error occured , this is except block :{e}\")"
   ]
  },
  {
   "cell_type": "markdown",
   "metadata": {},
   "source": [
    "#### Method Chaining "
   ]
  },
  {
   "cell_type": "code",
   "execution_count": 124,
   "metadata": {},
   "outputs": [],
   "source": [
    "#allows multiple methods to be called in a single line , by returning the same objct itself.\n",
    "class BankAccount:\n",
    "    def __init__(self,acc_no , balance=100):\n",
    "        self.balance=balance\n",
    "        self.acc_no=acc_no\n",
    "    def withdraw(self,amount):\n",
    "        self.balance -=amount\n",
    "        print(f\"{amount}Rs has been deducted \")\n",
    "        return self # it will return the same obj \n",
    "    def deposit(self,amount):\n",
    "        self.balance+=  amount\n",
    "        print(f\"{amount} deposited\")\n",
    "        return self \n",
    "\n",
    "#testing \n",
    "acc1=BankAccount(1001,120)"
   ]
  },
  {
   "cell_type": "code",
   "execution_count": 130,
   "metadata": {},
   "outputs": [
    {
     "name": "stdout",
     "output_type": "stream",
     "text": [
      "60Rs has been deducted \n",
      "80 deposited\n"
     ]
    },
    {
     "data": {
      "text/plain": [
       "140"
      ]
     },
     "execution_count": 130,
     "metadata": {},
     "output_type": "execute_result"
    }
   ],
   "source": [
    "acc1.withdraw(60).deposit(80) ## acc1.withdraw return same 'acc1' after changing the balance , then .deposit is called on 'acc1'\n",
    "acc1.balance"
   ]
  },
  {
   "cell_type": "markdown",
   "metadata": {},
   "source": [
    "#### Inhertitance practice "
   ]
  },
  {
   "cell_type": "code",
   "execution_count": 4,
   "metadata": {},
   "outputs": [
    {
     "name": "stdout",
     "output_type": "stream",
     "text": [
      "Walking....\n",
      "Running...\n"
     ]
    }
   ],
   "source": [
    "class Walker:\n",
    "    def walk(self):\n",
    "        print(\"Walking....\")\n",
    "class Runner:\n",
    "    def running(self):\n",
    "        print(\"Running...\")\n",
    "class Athlete(Walker,Runner):\n",
    "    def __init__(self,Training_hours):\n",
    "        self.Training_hours=Training_hours\n",
    "    def train(self):\n",
    "        return self.Training_hours\n",
    "\n",
    "ath1=Athlete(12)\n",
    "ath1.walk()\n",
    "ath1.running()"
   ]
  },
  {
   "cell_type": "code",
   "execution_count": 5,
   "metadata": {},
   "outputs": [
    {
     "name": "stdout",
     "output_type": "stream",
     "text": [
      "showing method of B\n"
     ]
    }
   ],
   "source": [
    "class A:\n",
    "    def show(self):\n",
    "        print(\"A's show Method\")\n",
    "class B(A):\n",
    "    def show(self):\n",
    "        print(\"showing method of B\")\n",
    "class C(A):\n",
    "    def show(self):\n",
    "        print(\"showing method of C\")\n",
    "\n",
    "class D(B,C):\n",
    "    pass\n",
    "\n",
    "# Test \n",
    "d=D()\n",
    "d.show()\n",
    "\n",
    "\n"
   ]
  },
  {
   "cell_type": "code",
   "execution_count": 9,
   "metadata": {},
   "outputs": [
    {
     "name": "stdout",
     "output_type": "stream",
     "text": [
      "black\n",
      "4\n"
     ]
    }
   ],
   "source": [
    "class Shape:\n",
    "    def __init__(self,color):\n",
    "        self.color=color\n",
    "class Circle(Shape):\n",
    "    def __init__(self,color,radius):\n",
    "        super().__init__(color)\n",
    "        self.radius=radius\n",
    "\n",
    "# Test \n",
    "circle=Circle('black',4)\n",
    "print(circle.color)\n",
    "print(circle.radius)\n"
   ]
  },
  {
   "cell_type": "code",
   "execution_count": 10,
   "metadata": {},
   "outputs": [
    {
     "name": "stdout",
     "output_type": "stream",
     "text": [
      "Car starting...\n",
      "Vehicle starting...\n"
     ]
    }
   ],
   "source": [
    "class Vehicle:\n",
    "    def start(self):\n",
    "        print(\"Vehicle starting...\")\n",
    "\n",
    "class Car(Vehicle):\n",
    "    def start(self):\n",
    "        print(\"Car starting...\")\n",
    "        super().start() # calls the method of Parent class \n",
    "\n",
    "# Test\n",
    "car = Car()\n",
    "car.start()"
   ]
  },
  {
   "cell_type": "markdown",
   "metadata": {},
   "source": [
    "###  Polymorphism with Inheritance\n",
    "\n",
    "Create a base class named `Bird` with a method `speak`. Create two derived classes `Parrot` and `Penguin` that override the `speak` method. Create a list of `Bird` objects and call the `speak` method on each object to demonstrate polymorphism."
   ]
  },
  {
   "cell_type": "code",
   "execution_count": 11,
   "metadata": {},
   "outputs": [
    {
     "name": "stdout",
     "output_type": "stream",
     "text": [
      "Parrot is speaking\n",
      "Penguin is speaking\n"
     ]
    }
   ],
   "source": [
    "class Bird:\n",
    "    def speak(self):\n",
    "        pass\n",
    "class Parrot(Bird):\n",
    "    def speak(self):\n",
    "        print(\"Parrot is speaking\")\n",
    "class Penguin(Bird):\n",
    "    def speak(self):\n",
    "        print(\"Penguin is speaking\")\n",
    "birds=[Parrot(),Penguin()]\n",
    "for bird in birds:\n",
    "    bird.speak()"
   ]
  },
  {
   "cell_type": "code",
   "execution_count": 16,
   "metadata": {},
   "outputs": [
    {
     "name": "stdout",
     "output_type": "stream",
     "text": [
      "Apple\n",
      "i7\n",
      "1080p\n"
     ]
    }
   ],
   "source": [
    "class Device:\n",
    "    def __init__(self,brand):\n",
    "        self.brand=brand\n",
    "class Phone(Device):\n",
    "    def __init__(self,brand,model):\n",
    "        super().__init__(brand)\n",
    "        self.model=model\n",
    "\n",
    "class Camera:\n",
    "    def __init__(self,resolution):\n",
    "        self.resolution=resolution\n",
    "class Smartphone(Phone,Camera):\n",
    "    def __init__(self,brand,model,resolution):\n",
    "        Camera.__init__(self,resolution)\n",
    "        Phone.__init__(self,brand,model)\n",
    "\n",
    "#testing \n",
    "smartphone=Smartphone('Apple','i7','1080p')\n",
    "print(smartphone.brand)\n",
    "print(smartphone.model)\n",
    "print(smartphone.resolution)\n",
    "\n",
    "    "
   ]
  },
  {
   "cell_type": "markdown",
   "metadata": {},
   "source": [
    "### OOPs Assignments"
   ]
  },
  {
   "cell_type": "code",
   "execution_count": 19,
   "metadata": {},
   "outputs": [
    {
     "name": "stdout",
     "output_type": "stream",
     "text": [
      "petrol\n",
      "Diesel \n"
     ]
    }
   ],
   "source": [
    "from abc import ABC,abstractmethod\n",
    "class Vehicle(ABC):\n",
    "    @abstractmethod\n",
    "    def start_engine(self):\n",
    "        pass\n",
    "\n",
    "    def fuel_type(self):\n",
    "        return \"Generic Fuel\"\n",
    "\n",
    "class Car(Vehicle):\n",
    "    def start_engine(self):\n",
    "        print(\"car engine started\")\n",
    "    def fuel_type(self):\n",
    "        return \"petrol\"\n",
    "\n",
    "class Bike(Vehicle):\n",
    "    def start_engine(self):\n",
    "        print(\"Bike Engine Started\")\n",
    "\n",
    "    def fuel_type(self):\n",
    "        return \"Diesel \"\n",
    "\n",
    "## Test \n",
    "car=Car()\n",
    "bike=Bike()\n",
    "print(car.fuel_type())\n",
    "print(bike.fuel_type())\n",
    "    "
   ]
  },
  {
   "cell_type": "code",
   "execution_count": 24,
   "metadata": {},
   "outputs": [],
   "source": [
    "class BankAccount:\n",
    "    def __init__(self,account_number,balance=0):\n",
    "        self.__account_number=account_number\n",
    "        self.__balance=balance\n",
    "    @property\n",
    "    def balance(self):\n",
    "        return self.__balance\n",
    "    \n",
    "    @balance.setter\n",
    "    def set_balance(self,amount):\n",
    "        if amount <0:\n",
    "            print(\"Balance can't be negative\")\n",
    "        else:\n",
    "            self.__balance=amount\n",
    "    def deposit(self,amount):\n",
    "        self.__balance +=amount\n",
    "\n",
    "    def withdraw(self,amount):\n",
    "        if amount>self.__balance:\n",
    "            print( \"insufficient funds \")\n",
    "        else:\n",
    "            self.__balance-=amount\n",
    "\n",
    "person1=BankAccount(120221,10000)\n",
    "person1.balance\n",
    "person1.set_balance=20000\n",
    "person1.balance\n",
    "person1.deposit(5000)\n",
    "person1.withdraw(2000)"
   ]
  },
  {
   "cell_type": "code",
   "execution_count": 25,
   "metadata": {},
   "outputs": [
    {
     "data": {
      "text/plain": [
       "23000"
      ]
     },
     "execution_count": 25,
     "metadata": {},
     "output_type": "execute_result"
    }
   ],
   "source": [
    "person1.balance"
   ]
  },
  {
   "cell_type": "code",
   "execution_count": 26,
   "metadata": {},
   "outputs": [
    {
     "name": "stdout",
     "output_type": "stream",
     "text": [
      "Jhon\n",
      "25\n",
      "None\n",
      "None\n",
      "<bound method Person.get_age of <__main__.Student object at 0x00000167D1B5B590>> <bound method Person.get_name of <__main__.Student object at 0x00000167D1B5B590>>\n"
     ]
    }
   ],
   "source": [
    "#combining Encapsulation with Inheritance\n",
    "class Person:\n",
    "    def __init__(self,name,age):\n",
    "        self.__name=name\n",
    "        self.__age=age\n",
    "\n",
    "    def get_name(self):\n",
    "        return self.__name\n",
    "\n",
    "    def set_name(self,Name):\n",
    "        self.__name=Name\n",
    "\n",
    "    def get_age(self):\n",
    "        return self.__age\n",
    "\n",
    "    def set_age(self,Age):\n",
    "        self.__age=Age\n",
    "\n",
    "class Student(Person):\n",
    "    def __init__(self,name,age,student_id):\n",
    "        super().__init__(name,age)\n",
    "        self.student_id=student_id\n",
    "\n",
    "# Test \n",
    "Student=Student('Jhon',25,10012)\n",
    "print(Student.get_name())\n",
    "print(Student.get_age())\n",
    "print(Student.set_age(26))\n",
    "print(Student.set_name('Akash'))\n",
    "\n",
    "\n"
   ]
  },
  {
   "cell_type": "code",
   "execution_count": 27,
   "metadata": {},
   "outputs": [
    {
     "name": "stdout",
     "output_type": "stream",
     "text": [
      "26 Akash\n"
     ]
    }
   ],
   "source": [
    "print(Student.get_age(),Student.get_name())"
   ]
  },
  {
   "cell_type": "code",
   "execution_count": 28,
   "metadata": {},
   "outputs": [
    {
     "data": {
      "text/plain": [
       "2100"
      ]
     },
     "execution_count": 28,
     "metadata": {},
     "output_type": "execute_result"
    }
   ],
   "source": [
    "class Employee(ABC):\n",
    "    @abstractmethod\n",
    "    def calculate_salary(self):\n",
    "        pass\n",
    "\n",
    "class FullTimeEmployee(Employee):\n",
    "    def __init__(self,salary):\n",
    "        self.salary=salary\n",
    "    def calculate_salary(self):\n",
    "        return self.salary\n",
    "\n",
    "class PartTimeEmployee(Employee):\n",
    "    def __init__(self,hourly_rate,hours_worked):\n",
    "        self.hourly_rate=hourly_rate\n",
    "        self.hours_worked=hours_worked\n",
    "    def calculate_salary(self):\n",
    "        return self.hourly_rate*self.hours_worked\n",
    "# Test\n",
    "employee1=FullTimeEmployee(7000)\n",
    "employee2=PartTimeEmployee(300,7)\n",
    "\n"
   ]
  },
  {
   "cell_type": "code",
   "execution_count": 30,
   "metadata": {},
   "outputs": [
    {
     "data": {
      "text/plain": [
       "7000"
      ]
     },
     "execution_count": 30,
     "metadata": {},
     "output_type": "execute_result"
    }
   ],
   "source": [
    "employee1.calculate_salary()"
   ]
  },
  {
   "cell_type": "code",
   "execution_count": 29,
   "metadata": {},
   "outputs": [
    {
     "data": {
      "text/plain": [
       "2100"
      ]
     },
     "execution_count": 29,
     "metadata": {},
     "output_type": "execute_result"
    }
   ],
   "source": [
    "employee2.calculate_salary()"
   ]
  },
  {
   "cell_type": "code",
   "execution_count": 33,
   "metadata": {},
   "outputs": [
    {
     "name": "stdout",
     "output_type": "stream",
     "text": [
      "Vector(9, 13)\n"
     ]
    }
   ],
   "source": [
    "#polymporphism with operator overloading \n",
    "class Vector:\n",
    "    def __init__(self,x,y):\n",
    "        self.x=x\n",
    "        self.y=y\n",
    "    def __add__(self,other):\n",
    "        return self.__class__(self.x+other.x ,self.y+ other.y)\n",
    "\n",
    "    def __str__(self):\n",
    "        return f\"{self.__class__.__name__}{self.x,self.y}\"\n",
    "\n",
    "##test \n",
    "v1=Vector(4,6)\n",
    "v2=Vector(5,7)\n",
    "v3=(v1+v2)\n",
    "print(v3)"
   ]
  },
  {
   "cell_type": "code",
   "execution_count": 36,
   "metadata": {},
   "outputs": [],
   "source": [
    "class Account:\n",
    "    def __init__(self,account_number,balance):\n",
    "        self.__account_number=account_number\n",
    "        self.__balance=balance\n",
    "\n",
    "    def get_balance(self):\n",
    "        return self.__balance\n",
    "    def get_account_number(self):\n",
    "        return self.__account_number\n",
    "\n",
    "    def set_balance(self,Balance):\n",
    "        if Balance<0:\n",
    "            print(\"balance can't be negative \")\n",
    "        else:\n",
    "            self.__balance=Balance\n",
    "    \n",
    "class SavingsAccount(Account):\n",
    "    def __init__(self,account_number,balance,interest_rate):\n",
    "        super().__init__(account_number,balance)\n",
    "        self.interest_rate=interest_rate"
   ]
  },
  {
   "cell_type": "code",
   "execution_count": 37,
   "metadata": {},
   "outputs": [
    {
     "name": "stdout",
     "output_type": "stream",
     "text": [
      "12345678 1000 0.05\n",
      "12345678 1500 0.05\n"
     ]
    }
   ],
   "source": [
    "savings = SavingsAccount('12345678', 1000, 0.05)\n",
    "print(savings.get_account_number(), savings.get_balance(), savings.interest_rate)\n",
    "savings.set_balance(1500)\n",
    "print(savings.get_account_number(), savings.get_balance(), savings.interest_rate)"
   ]
  },
  {
   "cell_type": "code",
   "execution_count": 50,
   "metadata": {},
   "outputs": [
    {
     "name": "stdout",
     "output_type": "stream",
     "text": [
      "superhero is flying\n",
      "this is flyeer class\n",
      "superhero is swimming \n"
     ]
    }
   ],
   "source": [
    "class Flyer:\n",
    "    def fly(self):\n",
    "        print(\"this is flyeer class\")\n",
    "class Swimmer:\n",
    "    def swim(self):\n",
    "        pass\n",
    "\n",
    "class Superhero(Flyer,Swimmer):\n",
    "    def fly(self):\n",
    "        print(\"superhero is flying\")\n",
    "        Flyer.fly(self)# to call the flyer method of base class \n",
    "\n",
    "    def swim(self):\n",
    "        print(\"superhero is swimming \")\n",
    "    \n",
    "#testing\n",
    "abc=Superhero()\n",
    "abc.fly()\n",
    "abc.swim()"
   ]
  },
  {
   "cell_type": "code",
   "execution_count": null,
   "metadata": {},
   "outputs": [],
   "source": []
  }
 ],
 "metadata": {
  "kernelspec": {
   "display_name": "Python 3",
   "language": "python",
   "name": "python3"
  },
  "language_info": {
   "codemirror_mode": {
    "name": "ipython",
    "version": 3
   },
   "file_extension": ".py",
   "mimetype": "text/x-python",
   "name": "python",
   "nbconvert_exporter": "python",
   "pygments_lexer": "ipython3",
   "version": "3.12.0"
  }
 },
 "nbformat": 4,
 "nbformat_minor": 2
}
