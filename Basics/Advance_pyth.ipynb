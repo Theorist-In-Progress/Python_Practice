{
 "cells": [
  {
   "cell_type": "markdown",
   "metadata": {},
   "source": [
    "### Iterators "
   ]
  },
  {
   "cell_type": "markdown",
   "metadata": {},
   "source": [
    "##### allows us for looping and efficient memory management . provides a way to access elements without exposing the underlying structure .   "
   ]
  },
  {
   "cell_type": "code",
   "execution_count": 7,
   "metadata": {},
   "outputs": [
    {
     "name": "stdout",
     "output_type": "stream",
     "text": [
      "[1, 2, 3, 4, 5, 6]\n"
     ]
    }
   ],
   "source": [
    "my_list =[1,2,3,4,5,6]\n",
    "print(my_list)"
   ]
  },
  {
   "cell_type": "code",
   "execution_count": 2,
   "metadata": {},
   "outputs": [
    {
     "data": {
      "text/plain": [
       "1"
      ]
     },
     "execution_count": 2,
     "metadata": {},
     "output_type": "execute_result"
    }
   ],
   "source": [
    "# see it gives all the items at once .\n",
    "\n",
    "iterator=iter(my_list)\n",
    "next(iterator) # it will print the first ele "
   ]
  },
  {
   "cell_type": "code",
   "execution_count": 3,
   "metadata": {},
   "outputs": [
    {
     "data": {
      "text/plain": [
       "2"
      ]
     },
     "execution_count": 3,
     "metadata": {},
     "output_type": "execute_result"
    }
   ],
   "source": [
    "# to print 2nd \n",
    "next(iterator\n",
    ")"
   ]
  },
  {
   "cell_type": "code",
   "execution_count": 17,
   "metadata": {},
   "outputs": [
    {
     "name": "stdout",
     "output_type": "stream",
     "text": [
      "there is no elements left\n"
     ]
    }
   ],
   "source": [
    "\n",
    "try:\n",
    "    print(next(iterator))\n",
    "except StopIteration:\n",
    "    print(\"there is no elements left\")"
   ]
  },
  {
   "cell_type": "markdown",
   "metadata": {},
   "source": [
    "## Generators "
   ]
  },
  {
   "cell_type": "code",
   "execution_count": 1,
   "metadata": {},
   "outputs": [
    {
     "name": "stdout",
     "output_type": "stream",
     "text": [
      "0\n"
     ]
    }
   ],
   "source": [
    "def square(n):\n",
    "    for i in range(3):\n",
    "        return i**2 # so if we run this ..we only get i** for the first element only ..\n",
    "\n",
    "print(square(3))"
   ]
  },
  {
   "cell_type": "code",
   "execution_count": 2,
   "metadata": {},
   "outputs": [],
   "source": [
    "def square1(n):\n",
    "    for i in range(3):\n",
    "        yield i**2 \n",
    "        # it will not store in memeory it will hold the recent element and pass it to us whem we call"
   ]
  },
  {
   "cell_type": "code",
   "execution_count": 3,
   "metadata": {},
   "outputs": [
    {
     "name": "stdout",
     "output_type": "stream",
     "text": [
      "0\n",
      "1\n",
      "4\n"
     ]
    }
   ],
   "source": [
    "for i in square1(3):\n",
    "    print(i)"
   ]
  },
  {
   "cell_type": "code",
   "execution_count": 6,
   "metadata": {},
   "outputs": [
    {
     "data": {
      "text/plain": [
       "<generator object square1 at 0x0000026BAF3245F0>"
      ]
     },
     "execution_count": 6,
     "metadata": {},
     "output_type": "execute_result"
    }
   ],
   "source": [
    "#another way\n",
    "a=square1(3)\n",
    "a"
   ]
  },
  {
   "cell_type": "code",
   "execution_count": 8,
   "metadata": {},
   "outputs": [
    {
     "data": {
      "text/plain": [
       "1"
      ]
     },
     "execution_count": 8,
     "metadata": {},
     "output_type": "execute_result"
    }
   ],
   "source": [
    "next(a)"
   ]
  },
  {
   "cell_type": "markdown",
   "metadata": {},
   "source": [
    "#### practical example of generator \n",
    "##### generator are particularly useful for reading large files because they allow to process one line at a time without loading the entire file into memory\n"
   ]
  },
  {
   "cell_type": "code",
   "execution_count": 13,
   "metadata": {},
   "outputs": [],
   "source": [
    "def read_large_file(file_path):\n",
    "    with open(file_path,'r') as file:\n",
    "        for line in file:\n",
    "            yield line\n",
    "\n",
    "\n"
   ]
  },
  {
   "cell_type": "code",
   "execution_count": 14,
   "metadata": {},
   "outputs": [
    {
     "name": "stdout",
     "output_type": "stream",
     "text": [
      "Hey i ovewrwrite this file\n",
      "i wrote the second line using lineesc\n"
     ]
    }
   ],
   "source": [
    "file_path1='sample.txt'\n",
    "for line in read_large_file(file_path1):\n",
    "    print(line.strip())"
   ]
  },
  {
   "cell_type": "markdown",
   "metadata": {},
   "source": [
    "### Decorators"
   ]
  },
  {
   "cell_type": "code",
   "execution_count": 15,
   "metadata": {},
   "outputs": [],
   "source": [
    "## function copy\n",
    "## closures\n",
    "###decorators \n",
    "\n"
   ]
  },
  {
   "cell_type": "code",
   "execution_count": 20,
   "metadata": {},
   "outputs": [],
   "source": [
    "#function copy \n",
    "#copying of one function  to other , such that if the actual fucntion is deleted its copy still work \n",
    "# for example \n",
    "def Welcome():\n",
    "    return \"this is welcome function\"\n",
    "\n",
    "\n",
    "    "
   ]
  },
  {
   "cell_type": "code",
   "execution_count": 21,
   "metadata": {},
   "outputs": [
    {
     "name": "stdout",
     "output_type": "stream",
     "text": [
      "this is welcome function\n",
      "this is welcome function\n"
     ]
    }
   ],
   "source": [
    "wel=Welcome\n",
    "print(wel())# above we have copied the welcome function \n",
    "del Welcome\n",
    "print(wel())"
   ]
  },
  {
   "cell_type": "code",
   "execution_count": 25,
   "metadata": {},
   "outputs": [],
   "source": [
    "#clousers \n",
    "#function inside a function \n",
    "\n",
    "def main_welcome():\n",
    "    msg=\"WELCOME\"\n",
    "    def sub_welcome_method():\n",
    "        print(\"This is my subwelcome method\")\n",
    "        print(msg) # so in closure method we can access the varibale that is defined outside the main method from inside the sub method.\n",
    "        print(\"learn this concept carefully \")\n",
    "\n",
    "    return sub_welcome_method()\n"
   ]
  },
  {
   "cell_type": "code",
   "execution_count": 26,
   "metadata": {},
   "outputs": [
    {
     "name": "stdout",
     "output_type": "stream",
     "text": [
      "This is my subwelcome method\n",
      "WELCOME\n",
      "learn this concept carefully \n"
     ]
    }
   ],
   "source": [
    "main_welcome()"
   ]
  },
  {
   "cell_type": "code",
   "execution_count": 27,
   "metadata": {},
   "outputs": [],
   "source": [
    "# not only the varibales we can also access the functions \n",
    "def main_welcome(func):\n",
    "    \n",
    "    def sub_welcome_method():\n",
    "        print(\"This is my subwelcome method\")\n",
    "        func(\"This is my function \") # so in closure method we can access the varibale that is defined outside the main method from inside the sub method.\n",
    "        print(\"learn this concept carefully \")\n",
    "\n",
    "    return sub_welcome_method()"
   ]
  },
  {
   "cell_type": "code",
   "execution_count": 28,
   "metadata": {},
   "outputs": [
    {
     "name": "stdout",
     "output_type": "stream",
     "text": [
      "This is my subwelcome method\n",
      "This is my function \n",
      "learn this concept carefully \n"
     ]
    }
   ],
   "source": [
    "main_welcome(print)"
   ]
  },
  {
   "cell_type": "code",
   "execution_count": 29,
   "metadata": {},
   "outputs": [],
   "source": [
    "##decorator \n",
    "def main_welcome(func):\n",
    "    \n",
    "    def sub_welcome_method():\n",
    "        print(\"This is my subwelcome method\")\n",
    "        func() \n",
    "        print(\"learn this concept carefully \")\n",
    "\n",
    "    return sub_welcome_method()"
   ]
  },
  {
   "cell_type": "code",
   "execution_count": 30,
   "metadata": {},
   "outputs": [],
   "source": [
    "def course_intro():\n",
    "    print(\"this is a advvacne python\") "
   ]
  },
  {
   "cell_type": "code",
   "execution_count": 31,
   "metadata": {},
   "outputs": [
    {
     "name": "stdout",
     "output_type": "stream",
     "text": [
      "This is my subwelcome method\n",
      "this is a advvacne python\n",
      "learn this concept carefully \n"
     ]
    }
   ],
   "source": [
    "main_welcome(course_intro)"
   ]
  },
  {
   "cell_type": "code",
   "execution_count": 32,
   "metadata": {},
   "outputs": [
    {
     "name": "stdout",
     "output_type": "stream",
     "text": [
      "This is my subwelcome method\n",
      "this is a advvacne python\n",
      "learn this concept carefully \n"
     ]
    }
   ],
   "source": [
    "# now without calling the course_intro inside the main_welcome can we do that ? yes!! here comes the part of decorators \n",
    "@main_welcome\n",
    "def course_intro():\n",
    "    print(\"this is a advvacne python\")"
   ]
  },
  {
   "cell_type": "code",
   "execution_count": 38,
   "metadata": {},
   "outputs": [],
   "source": [
    "### decorator example 2\n",
    "def my_decorator(func):\n",
    "    def wrapper():\n",
    "        print(\"something is happening before the function is called\")\n",
    "        func()\n",
    "        print(\"something after the functin is called \")\n",
    "    return wrapper"
   ]
  },
  {
   "cell_type": "code",
   "execution_count": 39,
   "metadata": {},
   "outputs": [],
   "source": [
    "@my_decorator\n",
    "def my_method():\n",
    "    print(\"say something ...this is my function   \")"
   ]
  },
  {
   "cell_type": "code",
   "execution_count": 40,
   "metadata": {},
   "outputs": [
    {
     "name": "stdout",
     "output_type": "stream",
     "text": [
      "something is happening before the function is called\n",
      "say something ...this is my function   \n",
      "something after the functin is called \n"
     ]
    }
   ],
   "source": [
    "my_method()"
   ]
  },
  {
   "cell_type": "markdown",
   "metadata": {},
   "source": [
    "#### Practice questions\n"
   ]
  },
  {
   "cell_type": "code",
   "execution_count": 45,
   "metadata": {},
   "outputs": [
    {
     "name": "stdout",
     "output_type": "stream",
     "text": [
      "5\n",
      "4\n",
      "3\n",
      "2\n",
      "1\n"
     ]
    }
   ],
   "source": [
    "class Countdown:\n",
    "    def __init__(self,number):\n",
    "        self.number=number\n",
    "    def __iter__(self):\n",
    "        return self\n",
    "    def __next__(self):\n",
    "        if self.number<=0:\n",
    "            raise StopIteration\n",
    "        else:\n",
    "            self.number -=1\n",
    "            return self.number +1\n",
    "\n",
    "# test \n",
    "for number in Countdown(5):\n",
    "    print(number) "
   ]
  },
  {
   "cell_type": "code",
   "execution_count": 46,
   "metadata": {},
   "outputs": [
    {
     "name": "stdout",
     "output_type": "stream",
     "text": [
      "2\n",
      "3\n",
      "4\n",
      "5\n",
      "6\n"
     ]
    }
   ],
   "source": [
    "class Myrange:\n",
    "    def __init__(self,start,end):\n",
    "        self.start=start\n",
    "        self.end=end\n",
    "    def __iter__(self):\n",
    "        return self\n",
    "    def __next__(self):\n",
    "        if self.start>= self.end:\n",
    "            raise StopIteration\n",
    "        else:\n",
    "            self.start+=1\n",
    "            return self.start -1\n",
    "\n",
    "#test \n",
    "for number in Myrange(2,7):\n",
    "    print(number)"
   ]
  },
  {
   "cell_type": "code",
   "execution_count": 48,
   "metadata": {},
   "outputs": [
    {
     "name": "stdout",
     "output_type": "stream",
     "text": [
      "0\n",
      "1\n",
      "1\n",
      "2\n",
      "3\n",
      "5\n",
      "8\n",
      "13\n",
      "21\n",
      "34\n"
     ]
    }
   ],
   "source": [
    "#generator function \n",
    "def febbo(N):\n",
    "    a,b=0,1\n",
    "    for num in range(N):\n",
    "        yield a\n",
    "        a,b=b,a+b\n",
    "for num in febbo(10):\n",
    "    print(num)\n",
    "    \n"
   ]
  },
  {
   "cell_type": "code",
   "execution_count": 49,
   "metadata": {},
   "outputs": [
    {
     "name": "stdout",
     "output_type": "stream",
     "text": [
      "0\n",
      "4\n",
      "16\n",
      "36\n",
      "64\n"
     ]
    }
   ],
   "source": [
    "def even_numbers(limit):\n",
    "    for _ in range(limit):\n",
    "        if _ %2==0:\n",
    "            yield _\n",
    "\n",
    "def squares(even_numbers):\n",
    "    for num in even_numbers:\n",
    "        yield num*num \n",
    "\n",
    "#test \n",
    "abc=squares(even_numbers(10))\n",
    "for _ in abc:\n",
    "    print(_)\n"
   ]
  },
  {
   "cell_type": "code",
   "execution_count": 50,
   "metadata": {},
   "outputs": [
    {
     "name": "stdout",
     "output_type": "stream",
     "text": [
      "hello \n",
      "hello \n",
      "hello \n"
     ]
    }
   ],
   "source": [
    "def repeat(n):\n",
    "    def decorated_func(func):\n",
    "        def wrapper(*args,**kwargs):\n",
    "            for num in range(n):\n",
    "                func(*args,**kwargs)\n",
    "        return wrapper\n",
    "    return decorated_func\n",
    "#testing \n",
    "@repeat(3)\n",
    "def printmsg(message):\n",
    "    print(message)\n",
    "\n",
    "printmsg(\"hello \")"
   ]
  },
  {
   "cell_type": "code",
   "execution_count": null,
   "metadata": {},
   "outputs": [
    {
     "name": "stdout",
     "output_type": "stream",
     "text": [
      "TMESSGASE!!!\n"
     ]
    }
   ],
   "source": [
    "def Upper(func):\n",
    "    def wrapper(*args,**kwargs):\n",
    "        result=func(*args,**kwargs)\n",
    "        return result.upper()\n",
    "    return wrapper\n",
    "    \n",
    "\n",
    "def exclaim(func):\n",
    "    def wrapper(*args,**kwargs):\n",
    "        result =func(*args,**kwargs)\n",
    "        return result +'!!!'\n",
    "    return wrapper\n",
    "\n",
    "@Upper\n",
    "@exclaim\n",
    "def pr(message):\n",
    "    return message \n",
    "\n",
    "print(pr(\"Tmessgase\"))"
   ]
  },
  {
   "cell_type": "code",
   "execution_count": null,
   "metadata": {},
   "outputs": [],
   "source": [
    "def Uppercase(cls):\n",
    "    class Wrapped(cls):\n",
    "        def __init__(self,*args,**kwargs):\n",
    "            super().__init__(*args,**kwargs)\n",
    "            self.data=self.data.upper()\n",
    "\n",
    "\n",
    "\n",
    "\n",
    "class ReverseString:\n",
    "    def __init__(self,strn):\n",
    "        self.strn=strn\n",
    "        self.len=len(strn)\n",
    "    def __iter__(self):\n",
    "        return self \n",
    "    def __next__(self):\n",
    "        if self.len==0:\n",
    "            raise StopIteration\n",
    "        self.len -=1\n",
    "        return self.strn[self.len]\n",
    "\n"
   ]
  },
  {
   "cell_type": "code",
   "execution_count": 59,
   "metadata": {},
   "outputs": [
    {
     "name": "stdout",
     "output_type": "stream",
     "text": [
      "O\n",
      "L\n",
      "L\n",
      "E\n",
      "H\n"
     ]
    }
   ],
   "source": [
    "for ele in ReverseString(\"HELLO\"):\n",
    "    print(ele)"
   ]
  },
  {
   "cell_type": "code",
   "execution_count": null,
   "metadata": {},
   "outputs": [],
   "source": [
    "\n"
   ]
  }
 ],
 "metadata": {
  "kernelspec": {
   "display_name": "Python 3",
   "language": "python",
   "name": "python3"
  },
  "language_info": {
   "codemirror_mode": {
    "name": "ipython",
    "version": 3
   },
   "file_extension": ".py",
   "mimetype": "text/x-python",
   "name": "python",
   "nbconvert_exporter": "python",
   "pygments_lexer": "ipython3",
   "version": "3.12.0"
  }
 },
 "nbformat": 4,
 "nbformat_minor": 2
}
