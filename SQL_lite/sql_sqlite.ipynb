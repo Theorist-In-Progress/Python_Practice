{
 "cells": [
  {
   "cell_type": "markdown",
   "metadata": {},
   "source": [
    "#### SQlit is a self contained ,severless and zero configuration database "
   ]
  },
  {
   "cell_type": "code",
   "execution_count": 1,
   "metadata": {},
   "outputs": [],
   "source": [
    "import sqlite3"
   ]
  },
  {
   "cell_type": "code",
   "execution_count": 9,
   "metadata": {},
   "outputs": [
    {
     "data": {
      "text/plain": [
       "<sqlite3.Connection at 0x26630e98220>"
      ]
     },
     "execution_count": 9,
     "metadata": {},
     "output_type": "execute_result"
    }
   ],
   "source": [
    "## connect to a SQlit Database \n",
    "connection =sqlite3.connect('example.db')\n",
    "connection"
   ]
  },
  {
   "cell_type": "code",
   "execution_count": 10,
   "metadata": {},
   "outputs": [],
   "source": [
    "cursor=connection.cursor()\n",
    "# we will make a cursor object that will iterate through all the tables and records \n"
   ]
  },
  {
   "cell_type": "code",
   "execution_count": 11,
   "metadata": {},
   "outputs": [],
   "source": [
    "## create a table inside our database \n",
    "cursor.execute(''' \n",
    "Create Table if not exists employees(\n",
    "    ID integer Primary key,\n",
    "    name Text Not NUll ,\n",
    "    age Integer,\n",
    "    department text\n",
    "    )\n",
    "''')\n",
    "\n",
    "## Commit the changes \n",
    "connection.commit()"
   ]
  },
  {
   "cell_type": "code",
   "execution_count": 12,
   "metadata": {},
   "outputs": [
    {
     "data": {
      "text/plain": [
       "<sqlite3.Cursor at 0x26630d38ac0>"
      ]
     },
     "execution_count": 12,
     "metadata": {},
     "output_type": "execute_result"
    }
   ],
   "source": [
    "cursor.execute(''' \n",
    "Select * from employees\n",
    "    \n",
    "''')"
   ]
  },
  {
   "cell_type": "code",
   "execution_count": 13,
   "metadata": {},
   "outputs": [],
   "source": [
    "## insert some data \n",
    "\n",
    "cursor.execute(''' \n",
    "Insert into employees(name,age,department)\n",
    "    values('Krish',32,'Data Scientist')\n",
    "''')\n",
    "\n",
    "cursor.execute(''' \n",
    "Insert into employees(name,age,department)\n",
    "    values('lalit',23,'Data Scientist')\n",
    "''')\n",
    "cursor.execute(''' \n",
    "Insert into employees(name,age,department)\n",
    "    values('Doland',32,'Sales')\n",
    "''')\n",
    "\n",
    "# to commit the changes \n",
    "connection.commit()"
   ]
  },
  {
   "cell_type": "code",
   "execution_count": null,
   "metadata": {},
   "outputs": [
    {
     "name": "stdout",
     "output_type": "stream",
     "text": [
      "(1, 'Krish', 32, 'Data Scientist')\n",
      "(2, 'lalit', 23, 'Data Scientist')\n",
      "(3, 'Doland', 32, 'Sales')\n"
     ]
    }
   ],
   "source": [
    "### querying the data \n",
    "cursor.execute('select * from employees')\n",
    "rows=cursor.fetchall() # function that we use to get all the records from select * command \n",
    "## print the query data \n",
    "for row in rows :\n",
    "    print(row)c"
   ]
  },
  {
   "cell_type": "code",
   "execution_count": 19,
   "metadata": {},
   "outputs": [],
   "source": [
    "## update the data \n",
    "cursor.execute(''' \n",
    "update employees \n",
    "set age=39\n",
    "where name=\"lalit\" \n",
    "''')\n",
    "\n",
    "connection.commit()\n",
    "\n",
    "\n",
    "\n",
    "\n",
    "\n"
   ]
  },
  {
   "cell_type": "code",
   "execution_count": 20,
   "metadata": {},
   "outputs": [
    {
     "name": "stdout",
     "output_type": "stream",
     "text": [
      "(1, 'Krish', 32, 'Data Scientist')\n",
      "(2, 'lalit', 39, 'Data Scientist')\n",
      "(3, 'Doland', 32, 'Sales')\n"
     ]
    }
   ],
   "source": [
    "cursor.execute(''' \n",
    "select * from employees\n",
    "''')\n",
    "\n",
    "rows=cursor.fetchall()\n",
    "for r in rows :\n",
    "    print(r)"
   ]
  },
  {
   "cell_type": "code",
   "execution_count": 21,
   "metadata": {},
   "outputs": [],
   "source": [
    "## delete the data \n",
    "cursor.execute(''' \n",
    " delete from employees \n",
    " where name='Krish'  \n",
    " ''')\n",
    "\n",
    "connection.commit()"
   ]
  },
  {
   "cell_type": "code",
   "execution_count": 22,
   "metadata": {},
   "outputs": [
    {
     "name": "stdout",
     "output_type": "stream",
     "text": [
      "(2, 'lalit', 39, 'Data Scientist')\n",
      "(3, 'Doland', 32, 'Sales')\n"
     ]
    }
   ],
   "source": [
    "cursor.execute(''' \n",
    "select * from employees\n",
    "''')\n",
    "\n",
    "rows=cursor.fetchall()\n",
    "for r in rows :\n",
    "    print(r)"
   ]
  },
  {
   "cell_type": "code",
   "execution_count": 23,
   "metadata": {},
   "outputs": [],
   "source": [
    " ## close the connection \n",
    " connection.close()"
   ]
  },
  {
   "cell_type": "markdown",
   "metadata": {},
   "source": [
    "#### Practice Questions "
   ]
  },
  {
   "cell_type": "code",
   "execution_count": 25,
   "metadata": {},
   "outputs": [
    {
     "data": {
      "text/plain": [
       "<sqlite3.Connection at 0x26630e9a980>"
      ]
     },
     "execution_count": 25,
     "metadata": {},
     "output_type": "execute_result"
    }
   ],
   "source": [
    "connection=sqlite3.connect('test.db')\n",
    "connection"
   ]
  },
  {
   "cell_type": "code",
   "execution_count": 26,
   "metadata": {},
   "outputs": [],
   "source": [
    "cursor=connection.cursor()\n"
   ]
  },
  {
   "cell_type": "code",
   "execution_count": 29,
   "metadata": {},
   "outputs": [],
   "source": [
    "cursor.execute('''\n",
    "Create table employee1(\n",
    "    Id  Integer primary key,\n",
    "    Name text,\n",
    "    age Integer,\n",
    "    department text\n",
    ")\n",
    " ''')\n",
    "\n",
    "connection.commit()"
   ]
  },
  {
   "cell_type": "code",
   "execution_count": 30,
   "metadata": {},
   "outputs": [],
   "source": [
    "connection.close()"
   ]
  },
  {
   "cell_type": "code",
   "execution_count": 31,
   "metadata": {},
   "outputs": [],
   "source": [
    "#python function to inser the data \n",
    "def Insertion(name,age,department):\n",
    "    connection= sqlite3.connect('test.db')\n",
    "    cursor=connection.cursor()\n",
    "    cursor.execute(''' \n",
    "    insert into employee1(name,age,department)\n",
    "    values (?,?,?)''',(name,age,department)) \n",
    "    connection.commit()\n",
    "    connection.close()\n",
    "\n",
    "\n",
    "Insertion('lalit',23,'DS'\n",
    ")"
   ]
  },
  {
   "cell_type": "code",
   "execution_count": 34,
   "metadata": {},
   "outputs": [],
   "source": [
    "Insertion('Alex',23,'FIN')\n",
    "Insertion('Samual',34,'FIN')\n",
    "Insertion('Raghav',45,'DS')\n",
    "Insertion('Raghu',28,'DS')\n",
    "Insertion('Shiv',29,'DS')\n"
   ]
  },
  {
   "cell_type": "code",
   "execution_count": 35,
   "metadata": {},
   "outputs": [
    {
     "name": "stdout",
     "output_type": "stream",
     "text": [
      "(1, 'lalit', 23, 'DS')\n",
      "(2, 'Alex', 23, 'FIN')\n",
      "(3, 'Samual', 34, 'FIN')\n",
      "(4, 'Raghav', 45, 'DS')\n",
      "(5, 'Raghu', 28, 'DS')\n",
      "(6, 'Shiv', 29, 'DS')\n"
     ]
    }
   ],
   "source": [
    "def fetch_all():\n",
    "    connection= sqlite3.connect('test.db')\n",
    "    cursor=connection.cursor()\n",
    "    cursor.execute(''' \n",
    "    Select * from employee1''') \n",
    "    records=cursor.fetchall()\n",
    "    for lines in records:\n",
    "         print(lines) \n",
    "    connection.close()\n",
    "\n",
    "fetch_all()"
   ]
  },
  {
   "cell_type": "code",
   "execution_count": 38,
   "metadata": {},
   "outputs": [
    {
     "name": "stdout",
     "output_type": "stream",
     "text": [
      "(1, 'lalit', 23, 'DS')\n",
      "(4, 'Raghav', 45, 'DS')\n",
      "(5, 'Raghu', 28, 'DS')\n",
      "(6, 'Shiv', 29, 'DS')\n"
     ]
    }
   ],
   "source": [
    "def fetch_Department(department1):\n",
    "    connection= sqlite3.connect('test.db')\n",
    "    cursor=connection.cursor()\n",
    "    cursor.execute(''' \n",
    "    Select * from employee1 where department=?''',(department1,)) \n",
    "    records=cursor.fetchall()\n",
    "    for lines in records:\n",
    "         print(lines) \n",
    "    connection.close()\n",
    "\n",
    "fetch_Department('DS')"
   ]
  },
  {
   "cell_type": "code",
   "execution_count": 41,
   "metadata": {},
   "outputs": [],
   "source": [
    "def Upadte(database,employee_id,department):\n",
    "    connection=sqlite3.connect(database)\n",
    "    cursor=connection.cursor()\n",
    "    cursor.execute(''' \n",
    "        update employee1 \n",
    "        set department=?\n",
    "         where Id=?''',(department,employee_id)\n",
    "    )\n",
    "    connection.commit()\n",
    "    connection.close()\n",
    "\n",
    "#testing \n",
    "Upadte('test.db',5,'FIN')\n",
    "\n"
   ]
  },
  {
   "cell_type": "code",
   "execution_count": 42,
   "metadata": {},
   "outputs": [
    {
     "name": "stdout",
     "output_type": "stream",
     "text": [
      "(1, 'lalit', 23, 'DS')\n",
      "(2, 'Alex', 23, 'FIN')\n",
      "(3, 'Samual', 34, 'FIN')\n",
      "(4, 'Raghav', 45, 'DS')\n",
      "(5, 'Raghu', 28, 'FIN')\n",
      "(6, 'Shiv', 29, 'DS')\n"
     ]
    }
   ],
   "source": [
    "#lets check \n",
    "fetch_all()"
   ]
  },
  {
   "cell_type": "code",
   "execution_count": null,
   "metadata": {},
   "outputs": [],
   "source": [
    "# Handling Transactions \n",
    "def insert_multiple(employees):\n",
    "    connection=sqlite3.connect('test.db')\n",
    "    cursor=connection.cursor()\n",
    "    try:\n",
    "        cursor.executemany(''' \n",
    "        Insert into employee1(name,age,department)\n",
    "        values(?,?,?)''',employees)\n",
    "        connection.commit()\n",
    "        print(\"all transaction are successfully entered\")\n",
    "    except Exception as e:\n",
    "        connection.rollback()\n",
    "        print(\"an error occured , trasactions are rolled back \")\n",
    "    finally:\n",
    "        connection.close()\n",
    "\n",
    "#testing \n"
   ]
  },
  {
   "cell_type": "code",
   "execution_count": 44,
   "metadata": {},
   "outputs": [
    {
     "name": "stdout",
     "output_type": "stream",
     "text": [
      "all transaction are successfully entered\n"
     ]
    }
   ],
   "source": [
    "employees = [\n",
    "    ('Frank', 40, 'Finance'),\n",
    "    ('Grace', 29, 'Engineering'),\n",
    "    ('Hannah', 35, 'Marketing'),\n",
    "    ('Ivan', 38, 'Sales'),\n",
    "    ('Jack', 45, 'HR')]\n",
    "\n",
    "insert_multiple(employees)"
   ]
  },
  {
   "cell_type": "code",
   "execution_count": 45,
   "metadata": {},
   "outputs": [
    {
     "name": "stdout",
     "output_type": "stream",
     "text": [
      "(1, 'lalit', 23, 'DS')\n",
      "(2, 'Alex', 23, 'FIN')\n",
      "(3, 'Samual', 34, 'FIN')\n",
      "(4, 'Raghav', 45, 'DS')\n",
      "(5, 'Raghu', 28, 'FIN')\n",
      "(6, 'Shiv', 29, 'DS')\n",
      "(7, 'Frank', 40, 'Finance')\n",
      "(8, 'Grace', 29, 'Engineering')\n",
      "(9, 'Hannah', 35, 'Marketing')\n",
      "(10, 'Ivan', 38, 'Sales')\n",
      "(11, 'Jack', 45, 'HR')\n"
     ]
    }
   ],
   "source": [
    "fetch_all()"
   ]
  },
  {
   "cell_type": "code",
   "execution_count": null,
   "metadata": {},
   "outputs": [],
   "source": []
  },
  {
   "cell_type": "code",
   "execution_count": null,
   "metadata": {},
   "outputs": [],
   "source": []
  }
 ],
 "metadata": {
  "kernelspec": {
   "display_name": "Python 3",
   "language": "python",
   "name": "python3"
  },
  "language_info": {
   "codemirror_mode": {
    "name": "ipython",
    "version": 3
   },
   "file_extension": ".py",
   "mimetype": "text/x-python",
   "name": "python",
   "nbconvert_exporter": "python",
   "pygments_lexer": "ipython3",
   "version": "3.12.0"
  }
 },
 "nbformat": 4,
 "nbformat_minor": 2
}
